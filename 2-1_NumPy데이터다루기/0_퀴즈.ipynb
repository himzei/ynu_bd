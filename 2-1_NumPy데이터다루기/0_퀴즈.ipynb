{
 "cells": [
  {
   "cell_type": "markdown",
   "metadata": {},
   "source": [
    "문제1. 다음과 같은 2차원 배열을 생성하고 array_2d에서 선언하는 파이썬 코드를 작성하시오.\n",
    "\n",
    "[[1, 2, 3], <br>\n",
    "&nbsp; [4, 5, 6], <br>\n",
    "&nbsp; [7, 8, 9]]"
   ]
  },
  {
   "cell_type": "markdown",
   "metadata": {},
   "source": [
    "문제2. 모든 값이 1(정수)이고 3층 2행 4열인 3차원 배열을 만드시오."
   ]
  },
  {
   "cell_type": "markdown",
   "metadata": {},
   "source": [
    "문제3. array_2d의 2차원 배열에서 2열의 요소만 나열하시오. \n",
    "\n",
    "\n",
    "[[1, 2, 3], <br>\n",
    "&nbsp; [4, 5, 6], <br>\n",
    "&nbsp; [7, 8, 9]]"
   ]
  },
  {
   "cell_type": "markdown",
   "metadata": {},
   "source": [
    "문제4. arr_a 는 arange()를 이용하여 2행 2열의 배열을 생성하고, 각각의 요소에 5를 더하시오 "
   ]
  },
  {
   "cell_type": "markdown",
   "metadata": {},
   "source": [
    "문제5. 다음과 같은 1차원 배열 a와 2차원 배열 b가 있습니다. 각각의 요소를 곱하는 코드를 만드시오 \n",
    "\n",
    "* a = [1, 2, 3]\n",
    "* b = [[10, 20, 30], [40, 50, 60], [70, 80, 90]]"
   ]
  },
  {
   "cell_type": "markdown",
   "metadata": {},
   "source": [
    "문제6. c = [0, 1, 2, 3, 4, 5, 6, 7, 8, 9] 를 5행 2열로 변경하는 코드를 작성하시오"
   ]
  }
 ],
 "metadata": {
  "language_info": {
   "name": "python"
  }
 },
 "nbformat": 4,
 "nbformat_minor": 2
}
