{
 "cells": [
  {
   "cell_type": "code",
   "execution_count": 1,
   "metadata": {},
   "outputs": [],
   "source": [
    "import numpy as np "
   ]
  },
  {
   "cell_type": "code",
   "execution_count": 2,
   "metadata": {},
   "outputs": [
    {
     "data": {
      "text/plain": [
       "np.int64(1)"
      ]
     },
     "execution_count": 2,
     "metadata": {},
     "output_type": "execute_result"
    }
   ],
   "source": [
    "arr_1d = np.array([1, 2, 3, 4, 5])\n",
    "arr_1d[0]"
   ]
  },
  {
   "cell_type": "code",
   "execution_count": 3,
   "metadata": {},
   "outputs": [
    {
     "name": "stdout",
     "output_type": "stream",
     "text": [
      "1\n"
     ]
    }
   ],
   "source": [
    "print(arr_1d[0])"
   ]
  },
  {
   "cell_type": "code",
   "execution_count": 4,
   "metadata": {},
   "outputs": [
    {
     "data": {
      "text/plain": [
       "1"
      ]
     },
     "execution_count": 4,
     "metadata": {},
     "output_type": "execute_result"
    }
   ],
   "source": [
    "a = [1, 2, 3, 4, 5]\n",
    "a[0]"
   ]
  },
  {
   "cell_type": "code",
   "execution_count": 5,
   "metadata": {},
   "outputs": [
    {
     "name": "stdout",
     "output_type": "stream",
     "text": [
      "3\n"
     ]
    }
   ],
   "source": [
    "print(arr_1d[2])"
   ]
  },
  {
   "cell_type": "code",
   "execution_count": 7,
   "metadata": {},
   "outputs": [
    {
     "name": "stdout",
     "output_type": "stream",
     "text": [
      "5\n"
     ]
    }
   ],
   "source": [
    "print(arr_1d[-1])"
   ]
  },
  {
   "cell_type": "code",
   "execution_count": 8,
   "metadata": {},
   "outputs": [],
   "source": [
    "arr_2d = np.array([\n",
    "                    [1, 2, 3], \n",
    "                    [4, 5, 7], \n",
    "                    [6, 8, 9],\n",
    "                    [11, 17, 19]\n",
    "])"
   ]
  },
  {
   "cell_type": "code",
   "execution_count": 12,
   "metadata": {},
   "outputs": [
    {
     "name": "stdout",
     "output_type": "stream",
     "text": [
      "2\n"
     ]
    }
   ],
   "source": [
    "print(arr_2d[0, 1])"
   ]
  },
  {
   "cell_type": "code",
   "execution_count": 13,
   "metadata": {},
   "outputs": [
    {
     "name": "stdout",
     "output_type": "stream",
     "text": [
      "1\n"
     ]
    }
   ],
   "source": [
    "print(arr_2d[-4, -3])"
   ]
  },
  {
   "cell_type": "code",
   "execution_count": 14,
   "metadata": {},
   "outputs": [
    {
     "name": "stdout",
     "output_type": "stream",
     "text": [
      "8\n"
     ]
    }
   ],
   "source": [
    "print(arr_2d[2, 1])"
   ]
  },
  {
   "cell_type": "code",
   "execution_count": 20,
   "metadata": {},
   "outputs": [
    {
     "name": "stdout",
     "output_type": "stream",
     "text": [
      "[1 2]\n",
      "[2]\n",
      "[1 2 3 4]\n",
      "[2 3 4 5]\n",
      "[1 2 3 4 5]\n"
     ]
    }
   ],
   "source": [
    "# 슬라이싱\n",
    "\n",
    "arr_1d = np.array([1, 2, 3, 4, 5])\n",
    "\n",
    "print(arr_1d[0:2])\n",
    "print(arr_1d[1:2])\n",
    "print(arr_1d[:4])\n",
    "print(arr_1d[1:])\n",
    "print(arr_1d[:])\n"
   ]
  },
  {
   "cell_type": "code",
   "execution_count": 23,
   "metadata": {},
   "outputs": [
    {
     "name": "stdout",
     "output_type": "stream",
     "text": [
      "[[ 1  2  3  5]\n",
      " [ 1  3  5  7]\n",
      " [ 2  4  6  8]\n",
      " [ 7 11 13 17]]\n",
      "[1 1 2 7]\n",
      "[ 2  3  4 11]\n"
     ]
    }
   ],
   "source": [
    "arr_2d = np.array([\n",
    "            [1, 2, 3, 5], \n",
    "            [1, 3, 5, 7], \n",
    "            [2, 4, 6, 8], \n",
    "            [7, 11, 13, 17]\n",
    "])\n",
    "\n",
    "print(arr_2d[0:4])\n",
    "print(arr_2d[0:4, 0])\n",
    "print(arr_2d[0:4, 1])"
   ]
  },
  {
   "cell_type": "code",
   "execution_count": 24,
   "metadata": {},
   "outputs": [
    {
     "name": "stdout",
     "output_type": "stream",
     "text": [
      "[1 1 2 7]\n"
     ]
    }
   ],
   "source": [
    "print(arr_2d[ :4, 0])"
   ]
  },
  {
   "cell_type": "code",
   "execution_count": 25,
   "metadata": {},
   "outputs": [
    {
     "name": "stdout",
     "output_type": "stream",
     "text": [
      "[1 1 2 7]\n"
     ]
    }
   ],
   "source": [
    "print(arr_2d[ : , 0])"
   ]
  },
  {
   "cell_type": "code",
   "execution_count": 26,
   "metadata": {},
   "outputs": [
    {
     "name": "stdout",
     "output_type": "stream",
     "text": [
      "[[1 2 3]\n",
      " [1 3 5]\n",
      " [2 4 6]]\n"
     ]
    }
   ],
   "source": [
    "arr_2d = np.array([\n",
    "            [1, 2, 3, 5], \n",
    "            [1, 3, 5, 7], \n",
    "            [2, 4, 6, 8], \n",
    "            [7, 11, 13, 17]\n",
    "])\n",
    "print(arr_2d[0:3, 0:3])"
   ]
  },
  {
   "cell_type": "code",
   "execution_count": 27,
   "metadata": {},
   "outputs": [
    {
     "name": "stdout",
     "output_type": "stream",
     "text": [
      "[[1 2 3]\n",
      " [1 3 5]\n",
      " [2 4 6]]\n"
     ]
    }
   ],
   "source": [
    "print(arr_2d[:3, :3])"
   ]
  },
  {
   "cell_type": "code",
   "execution_count": 28,
   "metadata": {},
   "outputs": [
    {
     "name": "stdout",
     "output_type": "stream",
     "text": [
      "[[1 2 3]\n",
      " [1 3 5]\n",
      " [2 4 6]]\n"
     ]
    }
   ],
   "source": [
    "print(arr_2d[ :-1, :-1])"
   ]
  },
  {
   "cell_type": "code",
   "execution_count": 29,
   "metadata": {},
   "outputs": [
    {
     "data": {
      "text/plain": [
       "numpy.ndarray"
      ]
     },
     "execution_count": 29,
     "metadata": {},
     "output_type": "execute_result"
    }
   ],
   "source": [
    "arr_2d = np.array([\n",
    "            [1, 2, 3, 5], \n",
    "            [1, 3, 5, 7], \n",
    "            [2, 4, 6, 8], \n",
    "            [7, 11, 13, 17]\n",
    "])\n",
    "type(arr_2d)\n"
   ]
  },
  {
   "cell_type": "code",
   "execution_count": 30,
   "metadata": {},
   "outputs": [
    {
     "name": "stdout",
     "output_type": "stream",
     "text": [
      "[[3 5]\n",
      " [4 6]]\n"
     ]
    }
   ],
   "source": [
    "print(arr_2d[1:3, 1:3 ])"
   ]
  },
  {
   "cell_type": "code",
   "execution_count": 32,
   "metadata": {},
   "outputs": [
    {
     "name": "stdout",
     "output_type": "stream",
     "text": [
      "[[3 5]\n",
      " [4 6]]\n",
      "[[3 5]\n",
      " [4 6]]\n"
     ]
    }
   ],
   "source": [
    "print(arr_2d[-3:-1, -3:-1])\n",
    "print(arr_2d[1:-1, 1:-1])\n"
   ]
  },
  {
   "cell_type": "code",
   "execution_count": 34,
   "metadata": {},
   "outputs": [
    {
     "name": "stdout",
     "output_type": "stream",
     "text": [
      "[[1 3 5 7]\n",
      " [2 4 6 8]]\n",
      "[[1 3 5 7]\n",
      " [2 4 6 8]]\n",
      "[[1 3 5 7]\n",
      " [2 4 6 8]]\n"
     ]
    }
   ],
   "source": [
    "print(arr_2d[1:3, 0:4])\n",
    "print(arr_2d[1:3, :])\n",
    "print(arr_2d[1:-1, :])"
   ]
  },
  {
   "cell_type": "code",
   "execution_count": 37,
   "metadata": {},
   "outputs": [
    {
     "name": "stdout",
     "output_type": "stream",
     "text": [
      "[ 7 11 13 17]\n",
      "[ 7 11 13 17]\n",
      "[ 7 11 13 17]\n"
     ]
    }
   ],
   "source": [
    "arr_2d = np.array([\n",
    "            [1, 2, 3, 5], \n",
    "            [1, 3, 5, 7], \n",
    "            [2, 4, 6, 8], \n",
    "            [7, 11, 13, 17]\n",
    "])\n",
    "\n",
    "print(arr_2d[3, 0:4])\n",
    "print(arr_2d[3, :])\n",
    "print(arr_2d[-1, :])"
   ]
  },
  {
   "cell_type": "code",
   "execution_count": 40,
   "metadata": {},
   "outputs": [
    {
     "name": "stdout",
     "output_type": "stream",
     "text": [
      "[[ 6  8]\n",
      " [13 17]]\n",
      "[[ 6  8]\n",
      " [13 17]]\n",
      "[[ 6  8]\n",
      " [13 17]]\n"
     ]
    }
   ],
   "source": [
    "print(arr_2d[2:4, 2:4])\n",
    "print(arr_2d[2:, 2:])\n",
    "print(arr_2d[-2:, -2:])"
   ]
  },
  {
   "cell_type": "code",
   "execution_count": 41,
   "metadata": {},
   "outputs": [
    {
     "name": "stdout",
     "output_type": "stream",
     "text": [
      "[  0   1  -4 -16  25]\n"
     ]
    }
   ],
   "source": [
    "# ndarray 원소별 연산\n",
    "\n",
    "arr = np.array([0, 1, -4, -16, 25])\n",
    "print(arr)"
   ]
  },
  {
   "cell_type": "code",
   "execution_count": 42,
   "metadata": {},
   "outputs": [
    {
     "name": "stdout",
     "output_type": "stream",
     "text": [
      "[ 0  1  4 16 25]\n"
     ]
    }
   ],
   "source": [
    "arr_abs = np.abs(arr)\n",
    "print(arr_abs)"
   ]
  },
  {
   "cell_type": "code",
   "execution_count": 43,
   "metadata": {},
   "outputs": [
    {
     "name": "stdout",
     "output_type": "stream",
     "text": [
      "[ 0.  1.  4. 16. 25.]\n"
     ]
    }
   ],
   "source": [
    "arr_fabs = np.fabs(arr)\n",
    "print(arr_fabs)"
   ]
  },
  {
   "cell_type": "code",
   "execution_count": 44,
   "metadata": {},
   "outputs": [
    {
     "name": "stdout",
     "output_type": "stream",
     "text": [
      "[  0   1  -4 -16  25]\n",
      "[ 0.  1. nan nan  5.]\n"
     ]
    },
    {
     "name": "stderr",
     "output_type": "stream",
     "text": [
      "C:\\Users\\HRD영대\\AppData\\Local\\Temp\\ipykernel_5508\\1085780605.py:1: RuntimeWarning: invalid value encountered in sqrt\n",
      "  arr_sqrt = np.sqrt(arr)\n"
     ]
    }
   ],
   "source": [
    "arr_sqrt = np.sqrt(arr)\n",
    "print(arr)\n",
    "print(arr_sqrt)"
   ]
  },
  {
   "cell_type": "code",
   "execution_count": 45,
   "metadata": {},
   "outputs": [
    {
     "name": "stdout",
     "output_type": "stream",
     "text": [
      "[  0   1  -4 -16  25]\n",
      "[  0   1  16 256 625]\n"
     ]
    }
   ],
   "source": [
    "arr_square = np.square(arr)\n",
    "print(arr)\n",
    "print(arr_square)"
   ]
  },
  {
   "cell_type": "code",
   "execution_count": 46,
   "metadata": {},
   "outputs": [
    {
     "name": "stdout",
     "output_type": "stream",
     "text": [
      "[  0   1  -4 -16  25]\n",
      "[1.00000000e+00 2.71828183e+00 1.83156389e-02 1.12535175e-07\n",
      " 7.20048993e+10]\n"
     ]
    }
   ],
   "source": [
    "arr_exp = np.exp(arr)\n",
    "print(arr)\n",
    "print(arr_exp)"
   ]
  },
  {
   "cell_type": "code",
   "execution_count": 47,
   "metadata": {},
   "outputs": [
    {
     "name": "stdout",
     "output_type": "stream",
     "text": [
      "[  0   1  -4 -16  25]\n",
      "[      -inf 0.                nan        nan 3.21887582]\n"
     ]
    },
    {
     "name": "stderr",
     "output_type": "stream",
     "text": [
      "C:\\Users\\HRD영대\\AppData\\Local\\Temp\\ipykernel_5508\\4217760339.py:1: RuntimeWarning: divide by zero encountered in log\n",
      "  arr_log = np.log(arr)\n",
      "C:\\Users\\HRD영대\\AppData\\Local\\Temp\\ipykernel_5508\\4217760339.py:1: RuntimeWarning: invalid value encountered in log\n",
      "  arr_log = np.log(arr)\n"
     ]
    }
   ],
   "source": [
    "arr_log = np.log(arr)\n",
    "print(arr)\n",
    "print(arr_log)"
   ]
  },
  {
   "cell_type": "code",
   "execution_count": 48,
   "metadata": {},
   "outputs": [
    {
     "name": "stdout",
     "output_type": "stream",
     "text": [
      "[  0   1  -4 -16  25]\n",
      "[      -inf 0.                nan        nan 1.39794001]\n"
     ]
    },
    {
     "name": "stderr",
     "output_type": "stream",
     "text": [
      "C:\\Users\\HRD영대\\AppData\\Local\\Temp\\ipykernel_5508\\784130791.py:1: RuntimeWarning: divide by zero encountered in log10\n",
      "  arr_log10 = np.log10(arr)\n",
      "C:\\Users\\HRD영대\\AppData\\Local\\Temp\\ipykernel_5508\\784130791.py:1: RuntimeWarning: invalid value encountered in log10\n",
      "  arr_log10 = np.log10(arr)\n"
     ]
    }
   ],
   "source": [
    "arr_log10 = np.log10(arr)\n",
    "print(arr)\n",
    "print(arr_log10)"
   ]
  },
  {
   "cell_type": "code",
   "execution_count": 49,
   "metadata": {},
   "outputs": [
    {
     "name": "stdout",
     "output_type": "stream",
     "text": [
      "[  0   1  -4 -16  25]\n",
      "[ 0  1 -1 -1  1]\n"
     ]
    }
   ],
   "source": [
    "arr_sign = np.sign(arr)\n",
    "print(arr)\n",
    "print(arr_sign)"
   ]
  },
  {
   "cell_type": "code",
   "execution_count": null,
   "metadata": {},
   "outputs": [],
   "source": []
  }
 ],
 "metadata": {
  "kernelspec": {
   "display_name": "Python 3",
   "language": "python",
   "name": "python3"
  },
  "language_info": {
   "codemirror_mode": {
    "name": "ipython",
    "version": 3
   },
   "file_extension": ".py",
   "mimetype": "text/x-python",
   "name": "python",
   "nbconvert_exporter": "python",
   "pygments_lexer": "ipython3",
   "version": "3.12.4"
  }
 },
 "nbformat": 4,
 "nbformat_minor": 2
}
