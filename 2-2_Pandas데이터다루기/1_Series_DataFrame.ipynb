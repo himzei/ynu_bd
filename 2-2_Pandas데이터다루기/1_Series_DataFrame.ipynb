{
 "cells": [
  {
   "cell_type": "code",
   "execution_count": null,
   "metadata": {},
   "outputs": [],
   "source": [
    "# pandas 설치\n",
    "!pip install pandas"
   ]
  },
  {
   "cell_type": "code",
   "execution_count": 2,
   "metadata": {},
   "outputs": [],
   "source": [
    "import pandas as pd \n",
    "import numpy as np "
   ]
  },
  {
   "cell_type": "code",
   "execution_count": 5,
   "metadata": {},
   "outputs": [
    {
     "name": "stdout",
     "output_type": "stream",
     "text": [
      "<class 'list'>\n",
      "<class 'pandas.core.series.Series'>\n",
      "0    이유리\n",
      "1    최민준\n",
      "2    김민지\n",
      "dtype: object\n"
     ]
    }
   ],
   "source": [
    "obj = [\"이유리\", \"최민준\", \"김민지\"]\n",
    "print(type(obj))\n",
    "\n",
    "series_1 = pd.Series(obj)\n",
    "print(type(series_1))\n",
    "print(series_1)"
   ]
  },
  {
   "cell_type": "code",
   "execution_count": 6,
   "metadata": {},
   "outputs": [
    {
     "name": "stdout",
     "output_type": "stream",
     "text": [
      "A    이유리\n",
      "B    최민준\n",
      "C    김민지\n",
      "dtype: object\n"
     ]
    }
   ],
   "source": [
    "obj = [\"이유리\", \"최민준\", \"김민지\"]\n",
    "idx = [\"A\", \"B\", \"C\"]\n",
    "\n",
    "series_2 = pd.Series([\"이유리\", \"최민준\", \"김민지\"], index=idx)\n",
    "print(series_2)"
   ]
  },
  {
   "cell_type": "code",
   "execution_count": 7,
   "metadata": {},
   "outputs": [
    {
     "name": "stdout",
     "output_type": "stream",
     "text": [
      "A    이유리\n",
      "B    최민준\n",
      "C    김민지\n",
      "dtype: object\n"
     ]
    }
   ],
   "source": [
    "obj = {\n",
    "    \"A\": \"이유리\", \n",
    "    \"B\": \"최민준\", \n",
    "    \"C\": \"김민지\", \n",
    "}\n",
    "\n",
    "series_3 = pd.Series(obj)\n",
    "print(series_3)"
   ]
  },
  {
   "cell_type": "code",
   "execution_count": 9,
   "metadata": {},
   "outputs": [
    {
     "data": {
      "text/plain": [
       "array(['이유리', '최민준', '김민지'], dtype=object)"
      ]
     },
     "execution_count": 9,
     "metadata": {},
     "output_type": "execute_result"
    }
   ],
   "source": [
    "# values 속성\n",
    "print(series_1.values)"
   ]
  },
  {
   "cell_type": "code",
   "execution_count": 10,
   "metadata": {},
   "outputs": [
    {
     "name": "stdout",
     "output_type": "stream",
     "text": [
      "RangeIndex(start=0, stop=3, step=1)\n"
     ]
    }
   ],
   "source": [
    "# index 속성\n",
    "print(series_1.index)"
   ]
  },
  {
   "cell_type": "code",
   "execution_count": 11,
   "metadata": {},
   "outputs": [
    {
     "name": "stdout",
     "output_type": "stream",
     "text": [
      "object\n"
     ]
    }
   ],
   "source": [
    "# dtypes 속성 -> 시리즈 객체의 데이터 타입 확인\n",
    "print(series_1.dtypes)"
   ]
  },
  {
   "cell_type": "code",
   "execution_count": 12,
   "metadata": {},
   "outputs": [
    {
     "name": "stdout",
     "output_type": "stream",
     "text": [
      "3\n"
     ]
    }
   ],
   "source": [
    "# size 속성 -> 총 객체의 수\n",
    "print(series_1.size)"
   ]
  },
  {
   "cell_type": "code",
   "execution_count": 15,
   "metadata": {},
   "outputs": [
    {
     "name": "stdout",
     "output_type": "stream",
     "text": [
      "Index(['A', 'B', 'C'], dtype='object')\n",
      "Index(['A', 'B', 'C'], dtype='object')\n"
     ]
    }
   ],
   "source": [
    "\n",
    "series_1.index = [\"A\", \"B\", \"C\"]\n",
    "print(series_1.index)"
   ]
  },
  {
   "cell_type": "code",
   "execution_count": 16,
   "metadata": {},
   "outputs": [
    {
     "name": "stdout",
     "output_type": "stream",
     "text": [
      "a    22\n",
      "b    32\n",
      "c    27\n",
      "d    18\n",
      "e    38\n",
      "f    19\n",
      "dtype: int64\n"
     ]
    }
   ],
   "source": [
    "obj = [22, 32, 27, 18, 38, 19]\n",
    "idx = list(\"abcdef\") # => [\"a\", \"b\", \"c\", \"d\", \"e\", \"f\"]\n",
    "\n",
    "sr = pd.Series(obj, index=idx)\n",
    "print(sr)"
   ]
  },
  {
   "cell_type": "code",
   "execution_count": 19,
   "metadata": {},
   "outputs": [
    {
     "name": "stdout",
     "output_type": "stream",
     "text": [
      "38\n",
      "19\n",
      "27\n"
     ]
    },
    {
     "name": "stderr",
     "output_type": "stream",
     "text": [
      "C:\\Users\\HRD영대\\AppData\\Local\\Temp\\ipykernel_8268\\3784644433.py:1: FutureWarning: Series.__getitem__ treating keys as positions is deprecated. In a future version, integer keys will always be treated as labels (consistent with DataFrame behavior). To access a value by position, use `ser.iloc[pos]`\n",
      "  print(sr[4])\n",
      "C:\\Users\\HRD영대\\AppData\\Local\\Temp\\ipykernel_8268\\3784644433.py:2: FutureWarning: Series.__getitem__ treating keys as positions is deprecated. In a future version, integer keys will always be treated as labels (consistent with DataFrame behavior). To access a value by position, use `ser.iloc[pos]`\n",
      "  print(sr[-1])\n"
     ]
    }
   ],
   "source": [
    "# Series 객체의 인덱싱\n",
    "print(sr[4])\n",
    "print(sr[-1])\n",
    "print(sr[\"c\"])"
   ]
  },
  {
   "cell_type": "code",
   "execution_count": 21,
   "metadata": {},
   "outputs": [
    {
     "name": "stdout",
     "output_type": "stream",
     "text": [
      "b    32\n",
      "c    27\n",
      "d    18\n",
      "e    38\n",
      "dtype: int64\n",
      "a    22\n",
      "b    32\n",
      "c    27\n",
      "d    18\n",
      "e    38\n",
      "dtype: int64\n"
     ]
    }
   ],
   "source": [
    "# Series 객체의 슬라이싱 \n",
    "print(sr[1:5])\n",
    "print(sr[:5])"
   ]
  },
  {
   "cell_type": "code",
   "execution_count": 22,
   "metadata": {},
   "outputs": [
    {
     "name": "stdout",
     "output_type": "stream",
     "text": [
      "b    32\n",
      "c    27\n",
      "d    18\n",
      "dtype: int64\n"
     ]
    }
   ],
   "source": [
    "print(sr[\"b\":\"d\"])"
   ]
  },
  {
   "cell_type": "code",
   "execution_count": 24,
   "metadata": {},
   "outputs": [
    {
     "name": "stdout",
     "output_type": "stream",
     "text": [
      "a    22\n",
      "d    18\n",
      "e    38\n",
      "dtype: int64\n",
      "b    32\n",
      "f    19\n",
      "dtype: int64\n"
     ]
    },
    {
     "name": "stderr",
     "output_type": "stream",
     "text": [
      "C:\\Users\\HRD영대\\AppData\\Local\\Temp\\ipykernel_8268\\4119871827.py:2: FutureWarning: Series.__getitem__ treating keys as positions is deprecated. In a future version, integer keys will always be treated as labels (consistent with DataFrame behavior). To access a value by position, use `ser.iloc[pos]`\n",
      "  print(sr[idx])\n",
      "C:\\Users\\HRD영대\\AppData\\Local\\Temp\\ipykernel_8268\\4119871827.py:3: FutureWarning: Series.__getitem__ treating keys as positions is deprecated. In a future version, integer keys will always be treated as labels (consistent with DataFrame behavior). To access a value by position, use `ser.iloc[pos]`\n",
      "  print(sr[[1, 5]])\n"
     ]
    }
   ],
   "source": [
    "idx = [0, 3, 4]\n",
    "print(sr[idx])\n",
    "print(sr[[1, 5]])"
   ]
  },
  {
   "cell_type": "code",
   "execution_count": 25,
   "metadata": {},
   "outputs": [
    {
     "name": "stdout",
     "output_type": "stream",
     "text": [
      "a    22\n",
      "b    32\n",
      "c    27\n",
      "d    18\n",
      "e    38\n",
      "f    19\n",
      "dtype: int64\n"
     ]
    }
   ],
   "source": [
    "print(sr)"
   ]
  },
  {
   "cell_type": "code",
   "execution_count": 26,
   "metadata": {},
   "outputs": [
    {
     "name": "stdout",
     "output_type": "stream",
     "text": [
      "b    32\n",
      "d    18\n",
      "f    19\n",
      "dtype: int64\n"
     ]
    }
   ],
   "source": [
    "print(sr[[\"b\", \"d\", \"f\"]])"
   ]
  },
  {
   "cell_type": "code",
   "execution_count": 27,
   "metadata": {},
   "outputs": [
    {
     "name": "stdout",
     "output_type": "stream",
     "text": [
      "0      0\n",
      "1      1\n",
      "2      2\n",
      "3      3\n",
      "4      4\n",
      "      ..\n",
      "95    95\n",
      "96    96\n",
      "97    97\n",
      "98    98\n",
      "99    99\n",
      "Length: 100, dtype: int64\n"
     ]
    }
   ],
   "source": [
    "# 통계 매소드 \n",
    "\n",
    "sr_1 = pd.Series(range(100)) # range(100) -> [0, 1, 2, .... 99]\n",
    "print(sr_1)"
   ]
  },
  {
   "cell_type": "code",
   "execution_count": 28,
   "metadata": {},
   "outputs": [
    {
     "data": {
      "text/plain": [
       "count    100.000000\n",
       "mean      49.500000\n",
       "std       29.011492\n",
       "min        0.000000\n",
       "25%       24.750000\n",
       "50%       49.500000\n",
       "75%       74.250000\n",
       "max       99.000000\n",
       "dtype: float64"
      ]
     },
     "execution_count": 28,
     "metadata": {},
     "output_type": "execute_result"
    }
   ],
   "source": [
    "# 집계함수 describe() -> 요약 통계량에 대한 정보 \n",
    "sr_1.describe()"
   ]
  },
  {
   "cell_type": "code",
   "execution_count": 29,
   "metadata": {},
   "outputs": [
    {
     "data": {
      "text/plain": [
       "np.int64(100)"
      ]
     },
     "execution_count": 29,
     "metadata": {},
     "output_type": "execute_result"
    }
   ],
   "source": [
    "# 집계함수 count() => 총 객체 수 \n",
    "sr_1.count()"
   ]
  },
  {
   "cell_type": "code",
   "execution_count": 30,
   "metadata": {},
   "outputs": [
    {
     "data": {
      "text/plain": [
       "np.float64(49.5)"
      ]
     },
     "execution_count": 30,
     "metadata": {},
     "output_type": "execute_result"
    }
   ],
   "source": [
    "# 집계함수 mean() 평균\n",
    "sr_1.mean()"
   ]
  },
  {
   "cell_type": "code",
   "execution_count": 31,
   "metadata": {},
   "outputs": [
    {
     "data": {
      "text/plain": [
       "np.float64(841.6666666666666)"
      ]
     },
     "execution_count": 31,
     "metadata": {},
     "output_type": "execute_result"
    }
   ],
   "source": [
    "# 집계함수 var() 분산\n",
    "sr_1.var() "
   ]
  },
  {
   "cell_type": "code",
   "execution_count": 32,
   "metadata": {},
   "outputs": [
    {
     "data": {
      "text/plain": [
       "np.float64(29.011491975882016)"
      ]
     },
     "execution_count": 32,
     "metadata": {},
     "output_type": "execute_result"
    }
   ],
   "source": [
    "# 집계함수 std() 표준편차\n",
    "sr_1.std()"
   ]
  },
  {
   "cell_type": "code",
   "execution_count": 33,
   "metadata": {},
   "outputs": [
    {
     "name": "stdout",
     "output_type": "stream",
     "text": [
      "0\n",
      "99\n",
      "49.5\n"
     ]
    }
   ],
   "source": [
    "print(sr_1.min())\n",
    "print(sr_1.max())\n",
    "print(sr_1.median())\n"
   ]
  },
  {
   "cell_type": "code",
   "execution_count": 35,
   "metadata": {},
   "outputs": [
    {
     "name": "stdout",
     "output_type": "stream",
     "text": [
      "49.5\n",
      "24.75\n",
      "74.25\n"
     ]
    }
   ],
   "source": [
    "# quantile() 백분위수\n",
    "print(sr_1.quantile())\n",
    "print(sr_1.quantile(q=0.25))\n",
    "print(sr_1.quantile(q=0.75))"
   ]
  },
  {
   "cell_type": "code",
   "execution_count": 36,
   "metadata": {},
   "outputs": [
    {
     "data": {
      "text/plain": [
       "count     7\n",
       "unique    4\n",
       "top       b\n",
       "freq      3\n",
       "dtype: object"
      ]
     },
     "execution_count": 36,
     "metadata": {},
     "output_type": "execute_result"
    }
   ],
   "source": [
    "sr_2 = pd.Series([\"a\", \"b\", \"b\", \"b\", \"c\", \"c\", \"d\"])\n",
    "sr_2.describe()"
   ]
  },
  {
   "cell_type": "code",
   "execution_count": 37,
   "metadata": {},
   "outputs": [
    {
     "data": {
      "text/plain": [
       "array(['a', 'b', 'c', 'd'], dtype=object)"
      ]
     },
     "execution_count": 37,
     "metadata": {},
     "output_type": "execute_result"
    }
   ],
   "source": [
    "# unique() -> 유일한 값 확인\n",
    "sr_2.unique()"
   ]
  },
  {
   "cell_type": "code",
   "execution_count": 38,
   "metadata": {},
   "outputs": [
    {
     "data": {
      "text/plain": [
       "b    3\n",
       "c    2\n",
       "a    1\n",
       "d    1\n",
       "Name: count, dtype: int64"
      ]
     },
     "execution_count": 38,
     "metadata": {},
     "output_type": "execute_result"
    }
   ],
   "source": [
    "# value_counts -> 유일한 값의 빈도수 확인\n",
    "sr_2.value_counts()"
   ]
  },
  {
   "cell_type": "code",
   "execution_count": 39,
   "metadata": {},
   "outputs": [
    {
     "data": {
      "text/plain": [
       "0    b\n",
       "dtype: object"
      ]
     },
     "execution_count": 39,
     "metadata": {},
     "output_type": "execute_result"
    }
   ],
   "source": [
    "# mode 최빈값\n",
    "sr_2.mode()"
   ]
  },
  {
   "cell_type": "code",
   "execution_count": null,
   "metadata": {},
   "outputs": [],
   "source": []
  }
 ],
 "metadata": {
  "kernelspec": {
   "display_name": "Python 3",
   "language": "python",
   "name": "python3"
  },
  "language_info": {
   "codemirror_mode": {
    "name": "ipython",
    "version": 3
   },
   "file_extension": ".py",
   "mimetype": "text/x-python",
   "name": "python",
   "nbconvert_exporter": "python",
   "pygments_lexer": "ipython3",
   "version": "3.12.4"
  }
 },
 "nbformat": 4,
 "nbformat_minor": 2
}
