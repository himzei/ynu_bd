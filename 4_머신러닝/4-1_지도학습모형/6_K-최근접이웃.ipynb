{
 "cells": [
  {
   "cell_type": "code",
   "execution_count": 6,
   "metadata": {},
   "outputs": [
    {
     "name": "stdout",
     "output_type": "stream",
     "text": [
      "[1.         0.36263793 1.         1.         1.         1.\n",
      " 0.         1.         1.         1.         0.         1.\n",
      " 0.         0.         0.         1.         0.81523887 1.\n",
      " 0.77612357 1.         0.         1.         1.         1.\n",
      " 1.         0.         0.15513117 1.         0.         0.79420706\n",
      " 1.         1.         1.         1.         1.         0.\n",
      " 0.16898867 1.         0.67728609 1.         0.81699556 0.\n",
      " 0.         0.         0.         0.         1.         0.\n",
      " 1.         1.         0.         1.         1.         1.\n",
      " 0.         0.         0.25244036 1.         0.42169843 1.\n",
      " 0.         1.         0.         0.         0.3666545  1.\n",
      " 0.         1.         0.66003574 1.         1.         1.\n",
      " 0.         0.         0.17514989 1.         0.37372751 0.85432647\n",
      " 1.         0.         0.         0.         0.         1.\n",
      " 1.         0.83876593 0.         0.79222    0.         0.\n",
      " 0.         0.         0.         1.         1.         1.\n",
      " 1.         1.         0.8554311  1.         1.         1.\n",
      " 0.         1.         0.7930038  1.         1.         0.\n",
      " 1.         1.         1.         1.         1.         0.71182471]\n",
      "0.9993386243386244\n"
     ]
    }
   ],
   "source": [
    "from sklearn.neighbors import KNeighborsClassifier\n",
    "from sklearn.model_selection import train_test_split \n",
    "from sklearn.datasets import load_breast_cancer\n",
    "\n",
    "breast_cancer = load_breast_cancer()\n",
    "data = breast_cancer.data\n",
    "target = breast_cancer.target\n",
    "\n",
    "# 1. \n",
    "X_train, X_test, y_train, y_test = train_test_split(\n",
    "    data, \n",
    "    target, \n",
    "    test_size=0.2,\n",
    "    random_state=2205, \n",
    "    stratify=target\n",
    ")\n",
    "\n",
    "# 2. \n",
    "knn_bin = KNeighborsClassifier(n_neighbors=5, weights=\"distance\")\n",
    "knn_bin.fit(X_train, y_train)\n",
    "y_score = knn_bin.predict_proba(X_test)[:, 1]\n",
    "print(y_score)\n",
    "\n",
    "\n",
    "# 3. \n",
    "from sklearn.metrics import roc_curve, auc \n",
    "\n",
    "fpr, tpr, thresholds  = roc_curve(y_test, y_score)\n",
    "\n",
    "AUC = auc(fpr, tpr)\n",
    "print(AUC)"
   ]
  },
  {
   "cell_type": "code",
   "execution_count": 3,
   "metadata": {},
   "outputs": [
    {
     "name": "stdout",
     "output_type": "stream",
     "text": [
      "0.9993386243386244\n"
     ]
    }
   ],
   "source": [
    "from sklearn.neighbors import KNeighborsClassifier \n",
    "from sklearn.model_selection import train_test_split \n",
    "from sklearn.datasets import load_breast_cancer\n",
    "\n",
    "breast_cancer = load_breast_cancer()\n",
    "data = breast_cancer.data \n",
    "target = breast_cancer.target\n",
    "\n",
    "# 1. \n",
    "X_train, X_test, y_train, y_test = train_test_split(\n",
    "    data, \n",
    "    target, \n",
    "    test_size=0.2, \n",
    "    random_state=2205, \n",
    "    stratify=target\n",
    ")\n",
    "\n",
    "# 2. \n",
    "knn_bin = KNeighborsClassifier(\n",
    "    n_neighbors=5, \n",
    "    weights=\"distance\"\n",
    ")\n",
    "knn_bin.fit(X_train, y_train)\n",
    "y_score = knn_bin.predict_proba(X_test)[:, 1]\n",
    "\n",
    "# 3. \n",
    "from sklearn.metrics import roc_curve, auc\n",
    "\n",
    "fpr, tpr, thresholds = roc_curve(y_test, y_score)\n",
    "AUC = auc(fpr, tpr)\n",
    "\n",
    "print(AUC)\n"
   ]
  },
  {
   "cell_type": "code",
   "execution_count": 5,
   "metadata": {},
   "outputs": [
    {
     "name": "stdout",
     "output_type": "stream",
     "text": [
      "1.0\n",
      "[1 2 0 0 2 1 2 2 1 1 2 2 0 0 1 1 1 0 2 1 0 0 1 0 1 2 2 2 0 0]\n",
      "[1 2 0 0 2 1 2 2 1 1 2 2 0 0 1 1 1 0 2 1 0 0 1 0 1 2 2 2 0 0]\n"
     ]
    }
   ],
   "source": [
    "### KNeighborsClassifier() 다지분류 모형 \n",
    "\n",
    "from sklearn.neighbors import KNeighborsClassifier \n",
    "from sklearn.model_selection import train_test_split \n",
    "from sklearn.datasets import load_iris \n",
    "\n",
    "iris = load_iris()\n",
    "data = iris.data \n",
    "target = iris.target \n",
    "\n",
    "# 1. \n",
    "X_train, X_test, y_train, y_test = train_test_split(\n",
    "    data, \n",
    "    target, \n",
    "    test_size=0.2, \n",
    "    random_state=2205, \n",
    "    stratify=target\n",
    ")\n",
    "\n",
    "# 2. \n",
    "knn_multi = KNeighborsClassifier(\n",
    "    n_neighbors=10, \n",
    "    weights=\"distance\"\n",
    ")\n",
    "knn_multi.fit(X_train, y_train)\n",
    "y_pred = knn_multi.predict(X_test)\n",
    "\n",
    "# 3. \n",
    "from sklearn.metrics import f1_score\n",
    "\n",
    "macro_f1 = f1_score(y_test, y_pred, average=\"macro\")\n",
    "print(macro_f1)\n",
    "\n",
    "print(y_test)\n",
    "print(y_pred)"
   ]
  },
  {
   "cell_type": "code",
   "execution_count": 15,
   "metadata": {},
   "outputs": [
    {
     "name": "stdout",
     "output_type": "stream",
     "text": [
      "64.34103593204944\n"
     ]
    }
   ],
   "source": [
    "from sklearn.neighbors import KNeighborsRegressor\n",
    "from sklearn.model_selection import train_test_split \n",
    "from sklearn.datasets import load_diabetes\n",
    "\n",
    "diabetes = load_diabetes()\n",
    "data = diabetes.data \n",
    "target = diabetes.target \n",
    "\n",
    "# 1. \n",
    "X_train, X_test, y_train, y_test = train_test_split(\n",
    "    data, \n",
    "    target, \n",
    "    test_size=0.2, \n",
    "    random_state=2205, \n",
    ")\n",
    "\n",
    "# 2. \n",
    "knn_conti = KNeighborsRegressor(\n",
    "    n_neighbors=5, \n",
    "    weights=\"distance\"\n",
    ")\n",
    "knn_conti.fit(X_train, y_train)\n",
    "y_pred = knn_conti.predict(X_test)\n",
    "\n",
    "\n",
    "# 3. \n",
    "import numpy as np\n",
    "from sklearn.metrics import mean_squared_error, root_mean_squared_error\n",
    "\n",
    "# 3-1\n",
    "# rmse = mean_squared_error(y_test, y_pred, squared=False)\n",
    "\n",
    "# 3-2\n",
    "# mse = mean_squared_error(y_test, y_pred)\n",
    "# rmse = np.sqrt(mse)\n",
    "\n",
    "# 3-3 \n",
    "rmse = root_mean_squared_error(y_test, y_pred)\n",
    "\n",
    "print(rmse)"
   ]
  },
  {
   "cell_type": "code",
   "execution_count": null,
   "metadata": {},
   "outputs": [],
   "source": []
  }
 ],
 "metadata": {
  "kernelspec": {
   "display_name": "Python 3",
   "language": "python",
   "name": "python3"
  },
  "language_info": {
   "codemirror_mode": {
    "name": "ipython",
    "version": 3
   },
   "file_extension": ".py",
   "mimetype": "text/x-python",
   "name": "python",
   "nbconvert_exporter": "python",
   "pygments_lexer": "ipython3",
   "version": "3.12.4"
  }
 },
 "nbformat": 4,
 "nbformat_minor": 2
}
