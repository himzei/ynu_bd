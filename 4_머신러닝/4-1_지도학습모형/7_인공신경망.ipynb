{
 "cells": [
  {
   "cell_type": "code",
   "execution_count": 2,
   "metadata": {},
   "outputs": [
    {
     "name": "stdout",
     "output_type": "stream",
     "text": [
      "0.9996693121693121\n"
     ]
    }
   ],
   "source": [
    "from sklearn.neural_network import MLPClassifier \n",
    "from sklearn.model_selection import train_test_split \n",
    "from sklearn.datasets import load_breast_cancer \n",
    "\n",
    "breast_cancer = load_breast_cancer()\n",
    "data = breast_cancer.data \n",
    "target = breast_cancer.target\n",
    "\n",
    "# 1. \n",
    "X_train, X_test, y_train, y_test = train_test_split(\n",
    "    data, \n",
    "    target, \n",
    "    test_size=0.2, \n",
    "    random_state=2205, \n",
    "    stratify=target \n",
    ")\n",
    "\n",
    "# 2. \n",
    "ann_bin = MLPClassifier(\n",
    "    alpha=0.5, \n",
    "    max_iter=500, \n",
    "    random_state=2022\n",
    ")\n",
    "ann_bin.fit(X_train, y_train)\n",
    "y_score = ann_bin.predict_proba(X_test)[:, 1]\n",
    "\n",
    "\n",
    "# 3. \n",
    "from sklearn.metrics import roc_curve, auc\n",
    "\n",
    "fpr, tpr, thresholds = roc_curve(y_test, y_score)\n",
    "AUC = auc(fpr, tpr)\n",
    "\n",
    "print(AUC)"
   ]
  },
  {
   "cell_type": "code",
   "execution_count": 3,
   "metadata": {},
   "outputs": [
    {
     "name": "stdout",
     "output_type": "stream",
     "text": [
      "1.0\n"
     ]
    }
   ],
   "source": [
    "### MLPClassifier() 다지분류 모형객체 \n",
    "\n",
    "from sklearn.neural_network import MLPClassifier \n",
    "from sklearn.datasets import load_iris\n",
    "from sklearn.model_selection import train_test_split \n",
    "\n",
    "iris = load_iris()\n",
    "data = iris.data \n",
    "target = iris.target \n",
    "\n",
    "# 1\n",
    "X_train, X_test, y_train, y_test = train_test_split( \n",
    "    data, \n",
    "    target, \n",
    "    test_size=0.2, \n",
    "    random_state=2205, \n",
    "    stratify=target\n",
    ")\n",
    "\n",
    "# 2.\n",
    "ann_multi = MLPClassifier(\n",
    "    random_state=2022, \n",
    "    max_iter=600\n",
    ")\n",
    "ann_multi.fit(X_train, y_train)\n",
    "y_pred = ann_multi.predict(X_test)\n",
    "\n",
    "# 3. \n",
    "from sklearn.metrics import f1_score \n",
    "\n",
    "macro_f1 = f1_score(y_test, y_pred, average=\"macro\")\n",
    "print(macro_f1)"
   ]
  },
  {
   "cell_type": "code",
   "execution_count": 4,
   "metadata": {},
   "outputs": [
    {
     "name": "stdout",
     "output_type": "stream",
     "text": [
      "60.217011309844985\n"
     ]
    },
    {
     "name": "stderr",
     "output_type": "stream",
     "text": [
      "c:\\Users\\HRD영대\\AppData\\Local\\Programs\\Python\\Python312\\Lib\\site-packages\\sklearn\\metrics\\_regression.py:492: FutureWarning: 'squared' is deprecated in version 1.4 and will be removed in 1.6. To calculate the root mean squared error, use the function'root_mean_squared_error'.\n",
      "  warnings.warn(\n"
     ]
    }
   ],
   "source": [
    "### MLPRegressor() 연속형 예측 모형 객체\n",
    "\n",
    "from sklearn.neural_network import MLPRegressor \n",
    "from sklearn.model_selection import train_test_split \n",
    "from sklearn.datasets import load_diabetes \n",
    "\n",
    "diabetes = load_diabetes()\n",
    "data = diabetes.data\n",
    "target = diabetes.target\n",
    "\n",
    "# 1. \n",
    "X_train, X_test, y_train, y_test = train_test_split(\n",
    "    data, \n",
    "    target, \n",
    "    test_size=0.2, \n",
    "    random_state=2205\n",
    ")\n",
    "\n",
    "# 2.\n",
    "ann_conti = MLPRegressor(\n",
    "    alpha=0.5, \n",
    "    max_iter=10000, \n",
    "    random_state=2022\n",
    ")\n",
    "ann_conti.fit(X_train, y_train)\n",
    "y_pred = ann_conti.predict(X_test)\n",
    "\n",
    "# 3. \n",
    "from sklearn.metrics import mean_squared_error\n",
    "\n",
    "rmse = mean_squared_error(y_test, y_pred, squared=False)\n",
    "print(rmse)"
   ]
  },
  {
   "cell_type": "code",
   "execution_count": null,
   "metadata": {},
   "outputs": [],
   "source": []
  }
 ],
 "metadata": {
  "kernelspec": {
   "display_name": "Python 3",
   "language": "python",
   "name": "python3"
  },
  "language_info": {
   "codemirror_mode": {
    "name": "ipython",
    "version": 3
   },
   "file_extension": ".py",
   "mimetype": "text/x-python",
   "name": "python",
   "nbconvert_exporter": "python",
   "pygments_lexer": "ipython3",
   "version": "3.12.4"
  }
 },
 "nbformat": 4,
 "nbformat_minor": 2
}
