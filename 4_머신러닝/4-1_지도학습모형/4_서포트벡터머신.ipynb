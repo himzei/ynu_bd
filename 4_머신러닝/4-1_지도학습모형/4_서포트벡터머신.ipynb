{
 "cells": [
  {
   "cell_type": "code",
   "execution_count": 6,
   "metadata": {},
   "outputs": [
    {
     "name": "stdout",
     "output_type": "stream",
     "text": [
      "0.9983465608465608\n"
     ]
    }
   ],
   "source": [
    "### SVC() 이진분류 모형객체\n",
    "\n",
    "from sklearn.svm import SVC\n",
    "from sklearn.model_selection import train_test_split\n",
    "from sklearn.datasets import load_breast_cancer\n",
    "\n",
    "breast_cancer = load_breast_cancer()\n",
    "data = breast_cancer.data\n",
    "target = breast_cancer.target \n",
    "\n",
    "# 1. 분류 \n",
    "X_train, X_test, y_train, y_test = train_test_split(\n",
    "    data, \n",
    "    target, \n",
    "    test_size=0.2, \n",
    "    random_state=2205, \n",
    "    stratify=target\n",
    ")\n",
    "\n",
    "# 2. 모형 훈련하고 예측\n",
    "svm_bin = SVC(kernel=\"linear\", C=0.5, probability=True)\n",
    "svm_bin.fit(X_train, y_train)\n",
    "y_score = svm_bin.predict_proba(X_test)[:,1]\n",
    "\n",
    "\n",
    "# 3. \n",
    "from sklearn.metrics import roc_curve, auc \n",
    "\n",
    "fpr, tpr, thresholds = roc_curve(y_test, y_score)\n",
    "AUC = auc(fpr, tpr)\n",
    "print(AUC)"
   ]
  },
  {
   "cell_type": "code",
   "execution_count": 10,
   "metadata": {},
   "outputs": [
    {
     "name": "stdout",
     "output_type": "stream",
     "text": [
      "0.9665831244778613\n"
     ]
    }
   ],
   "source": [
    "### SVC() 다지분류 모형객체 \n",
    "\n",
    "from sklearn.svm import LinearSVC\n",
    "from sklearn.model_selection import train_test_split \n",
    "from sklearn.datasets import load_iris\n",
    "\n",
    "iris = load_iris()\n",
    "\n",
    "data = iris.data \n",
    "target = iris.target \n",
    "\n",
    "\n",
    "# 1. \n",
    "X_train, X_test, y_train, y_test = train_test_split(\n",
    "    data, \n",
    "    target, \n",
    "    test_size=0.2, \n",
    "    random_state=2205, \n",
    "    stratify=target\n",
    ")\n",
    "\n",
    "# 2. \n",
    "svm_multi = LinearSVC(C=0.1)\n",
    "svm_multi.fit(X_train, y_train)\n",
    "y_pred = svm_multi.predict(X_test)\n",
    "\n",
    "# 3. \n",
    "from sklearn.metrics import f1_score \n",
    "\n",
    "f1_score = f1_score(y_test, y_pred, average=\"macro\")\n",
    "print(f1_score)\n"
   ]
  },
  {
   "cell_type": "code",
   "execution_count": 13,
   "metadata": {},
   "outputs": [
    {
     "name": "stdout",
     "output_type": "stream",
     "text": [
      "82.99258618226722\n",
      "72.9435929321933\n"
     ]
    }
   ],
   "source": [
    "### SVR(), LinearSVR() 연속형 예측모형 \n",
    "\n",
    "from sklearn.svm import SVR, LinearSVR\n",
    "from sklearn.model_selection import train_test_split \n",
    "from sklearn.datasets import load_diabetes \n",
    "\n",
    "diabetes = load_diabetes()\n",
    "data = diabetes.data \n",
    "target = diabetes.target \n",
    "\n",
    "# 1. \n",
    "X_train, X_test, y_train, y_test = train_test_split(\n",
    "    data, \n",
    "    target, \n",
    "    test_size=0.2, \n",
    "    random_state=2205, \n",
    ")\n",
    "\n",
    "# 2. \n",
    "svm_conti_1 = SVR(C=0.1, epsilon=0.01)\n",
    "svm_conti_1.fit(X_train, y_train)\n",
    "y_pred_1 = svm_conti_1.predict(X_test)\n",
    "\n",
    "svm_conti_2 = LinearSVR(C=0.1, loss=\"squared_epsilon_insensitive\")\n",
    "svm_conti_2.fit(X_train, y_train)\n",
    "y_pred_2 = svm_conti_2.predict(X_test)\n",
    "\n",
    "# 3. \n",
    "from sklearn.metrics import root_mean_squared_error\n",
    "\n",
    "rmse_1 = root_mean_squared_error(y_test, y_pred_1)\n",
    "rmse_2 = root_mean_squared_error(y_test, y_pred_2)\n",
    "\n",
    "print(rmse_1)\n",
    "print(rmse_2)\n"
   ]
  },
  {
   "cell_type": "code",
   "execution_count": null,
   "metadata": {},
   "outputs": [],
   "source": []
  }
 ],
 "metadata": {
  "kernelspec": {
   "display_name": "Python 3",
   "language": "python",
   "name": "python3"
  },
  "language_info": {
   "codemirror_mode": {
    "name": "ipython",
    "version": 3
   },
   "file_extension": ".py",
   "mimetype": "text/x-python",
   "name": "python",
   "nbconvert_exporter": "python",
   "pygments_lexer": "ipython3",
   "version": "3.12.4"
  }
 },
 "nbformat": 4,
 "nbformat_minor": 2
}
