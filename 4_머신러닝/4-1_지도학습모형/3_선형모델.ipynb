{
 "cells": [
  {
   "cell_type": "code",
   "execution_count": 7,
   "metadata": {},
   "outputs": [
    {
     "name": "stdout",
     "output_type": "stream",
     "text": [
      "[ 608.94692667  301.1268683   990.86452444 -938.97359917 -597.46181621]\n",
      "152.13348416289614\n",
      "0.4772123190202696\n"
     ]
    }
   ],
   "source": [
    "import pandas as pd \n",
    "from sklearn.linear_model import LinearRegression\n",
    "from sklearn.datasets import load_diabetes\n",
    "\n",
    "diabetes = load_diabetes()\n",
    "data = pd.DataFrame(diabetes.data, columns=diabetes.feature_names)\n",
    "target = diabetes.target\n",
    "\n",
    "colnm = [\"bmi\", \"bp\", \"s1\", \"s2\", \"s3\"]\n",
    "X = data[colnm]\n",
    "y = target \n",
    "\n",
    "model = LinearRegression()\n",
    "model.fit(X, y)\n",
    "# model.predict()\n",
    "\n",
    "# 독립변수들에 대한 회귀계수 \n",
    "print(model.coef_)\n",
    "\n",
    "# 절편에 대한 회귀계수\n",
    "print(model.intercept_)\n",
    "\n",
    "# 결정계수\n",
    "print(model.score(X, y))\n",
    "\n"
   ]
  },
  {
   "cell_type": "code",
   "execution_count": 8,
   "metadata": {},
   "outputs": [
    {
     "name": "stdout",
     "output_type": "stream",
     "text": [
      "[ 595.99425538  339.08790294  397.33725338 -338.99514707 -406.34548455]\n",
      "152.1334841628961\n"
     ]
    }
   ],
   "source": [
    "# 릿지 회귀모형\n",
    "from sklearn.linear_model import Ridge \n",
    "\n",
    "colnm = [\"bmi\", \"bp\", \"s1\", \"s2\", \"s3\"]\n",
    "X = data[colnm]\n",
    "y = target \n",
    "\n",
    "model = Ridge(alpha=0.1)\n",
    "model.fit(X, y)\n",
    "\n",
    "# 독립변수들에 대한 회귀계수 \n",
    "print(model.coef_)\n",
    "\n",
    "# 절편에 대한 회귀계수\n",
    "print(model.intercept_)"
   ]
  },
  {
   "cell_type": "code",
   "execution_count": 9,
   "metadata": {},
   "outputs": [
    {
     "name": "stdout",
     "output_type": "stream",
     "text": [
      "[ 574.04562479  237.22854049    0.            0.         -165.17168117]\n",
      "152.13348416289608\n"
     ]
    }
   ],
   "source": [
    "# 라쏘 회귀모형\n",
    "from sklearn.linear_model import Lasso\n",
    "\n",
    "colnm = [\"bmi\", \"bp\", \"s1\", \"s2\", \"s3\"]\n",
    "X = data[colnm]\n",
    "y = target \n",
    "\n",
    "model = Lasso(alpha=0.5)\n",
    "\n",
    "model.fit(X, y)\n",
    "\n",
    "# 독립변수들에 대한 회귀계수 \n",
    "print(model.coef_)\n",
    "\n",
    "# 절편에 대한 회귀계수\n",
    "print(model.intercept_)"
   ]
  },
  {
   "cell_type": "code",
   "execution_count": null,
   "metadata": {},
   "outputs": [],
   "source": []
  }
 ],
 "metadata": {
  "kernelspec": {
   "display_name": "Python 3",
   "language": "python",
   "name": "python3"
  },
  "language_info": {
   "codemirror_mode": {
    "name": "ipython",
    "version": 3
   },
   "file_extension": ".py",
   "mimetype": "text/x-python",
   "name": "python",
   "nbconvert_exporter": "python",
   "pygments_lexer": "ipython3",
   "version": "3.12.4"
  }
 },
 "nbformat": 4,
 "nbformat_minor": 2
}
