{
 "cells": [
  {
   "cell_type": "code",
   "execution_count": 7,
   "metadata": {},
   "outputs": [
    {
     "name": "stdout",
     "output_type": "stream",
     "text": [
      "[ 608.94692667  301.1268683   990.86452444 -938.97359917 -597.46181621]\n",
      "152.13348416289614\n",
      "0.4772123190202696\n"
     ]
    }
   ],
   "source": [
    "import pandas as pd \n",
    "from sklearn.linear_model import LinearRegression\n",
    "from sklearn.datasets import load_diabetes\n",
    "\n",
    "diabetes = load_diabetes()\n",
    "data = pd.DataFrame(diabetes.data, columns=diabetes.feature_names)\n",
    "target = diabetes.target\n",
    "\n",
    "colnm = [\"bmi\", \"bp\", \"s1\", \"s2\", \"s3\"]\n",
    "X = data[colnm]\n",
    "y = target \n",
    "\n",
    "model = LinearRegression()\n",
    "model.fit(X, y)\n",
    "# model.predict()\n",
    "\n",
    "# 독립변수들에 대한 회귀계수 \n",
    "print(model.coef_)\n",
    "\n",
    "# 절편에 대한 회귀계수\n",
    "print(model.intercept_)\n",
    "\n",
    "# 결정계수\n",
    "print(model.score(X, y))\n",
    "\n"
   ]
  },
  {
   "cell_type": "code",
   "execution_count": 8,
   "metadata": {},
   "outputs": [
    {
     "name": "stdout",
     "output_type": "stream",
     "text": [
      "[ 595.99425538  339.08790294  397.33725338 -338.99514707 -406.34548455]\n",
      "152.1334841628961\n"
     ]
    }
   ],
   "source": [
    "# 릿지 회귀모형\n",
    "from sklearn.linear_model import Ridge \n",
    "\n",
    "colnm = [\"bmi\", \"bp\", \"s1\", \"s2\", \"s3\"]\n",
    "X = data[colnm]\n",
    "y = target \n",
    "\n",
    "model = Ridge(alpha=0.1)\n",
    "model.fit(X, y)\n",
    "\n",
    "# 독립변수들에 대한 회귀계수 \n",
    "print(model.coef_)\n",
    "\n",
    "# 절편에 대한 회귀계수\n",
    "print(model.intercept_)"
   ]
  },
  {
   "cell_type": "code",
   "execution_count": 9,
   "metadata": {},
   "outputs": [
    {
     "name": "stdout",
     "output_type": "stream",
     "text": [
      "[ 574.04562479  237.22854049    0.            0.         -165.17168117]\n",
      "152.13348416289608\n"
     ]
    }
   ],
   "source": [
    "# 라쏘 회귀모형\n",
    "from sklearn.linear_model import Lasso\n",
    "\n",
    "colnm = [\"bmi\", \"bp\", \"s1\", \"s2\", \"s3\"]\n",
    "X = data[colnm]\n",
    "y = target \n",
    "\n",
    "model = Lasso(alpha=0.5)\n",
    "\n",
    "model.fit(X, y)\n",
    "\n",
    "# 독립변수들에 대한 회귀계수 \n",
    "print(model.coef_)\n",
    "\n",
    "# 절편에 대한 회귀계수\n",
    "print(model.intercept_)"
   ]
  },
  {
   "cell_type": "code",
   "execution_count": 18,
   "metadata": {},
   "outputs": [
    {
     "name": "stdout",
     "output_type": "stream",
     "text": [
      "(442, 10)\n",
      "(442,)\n",
      "0      198.788357\n",
      "1      166.214176\n",
      "2      133.539177\n",
      "3      194.702189\n",
      "4      172.636544\n",
      "          ...    \n",
      "127    178.910743\n",
      "128    131.853902\n",
      "129    148.589829\n",
      "130    178.546705\n",
      "131     65.611052\n",
      "Name: target, Length: 132, dtype: float64\n"
     ]
    }
   ],
   "source": [
    "import pandas as pd \n",
    "\n",
    "from sklearn.datasets import load_diabetes\n",
    "from sklearn.linear_model import Lasso\n",
    "\n",
    "diabetes = load_diabetes()\n",
    "\n",
    "data = pd.DataFrame(diabetes.data, columns=diabetes.feature_names)\n",
    "target = pd.Series(diabetes.target, name=\"target\")\n",
    "\n",
    "print(data.shape)\n",
    "print(target.shape)\n",
    "\n",
    "df = pd.concat([data, target], axis=1)\n",
    "\n",
    "cols = [\"bmi\", \"bp\", \"s1\", \"s2\", \"s3\"]\n",
    "\n",
    "X_train = df[cols].loc[:310]\n",
    "X_test = df[cols].loc[310:]\n",
    "y_train = df[\"target\"].loc[:310]\n",
    "# y_test = df[\"target\"].loc[:310]\n",
    "\n",
    "model = Lasso(alpha=0.5)\n",
    "model.fit(X_train, y_train)\n",
    "\n",
    "target = model.predict(X_test)\n",
    "target = pd.Series(target, name=\"target\")\n",
    "\n",
    "print(target)\n"
   ]
  },
  {
   "cell_type": "code",
   "execution_count": 25,
   "metadata": {},
   "outputs": [
    {
     "name": "stdout",
     "output_type": "stream",
     "text": [
      "(569, 30)\n",
      "(569,)\n",
      "0.9983465608465608\n"
     ]
    },
    {
     "name": "stderr",
     "output_type": "stream",
     "text": [
      "c:\\Users\\HRD영대\\AppData\\Local\\Programs\\Python\\Python312\\Lib\\site-packages\\sklearn\\linear_model\\_logistic.py:469: ConvergenceWarning: lbfgs failed to converge (status=1):\n",
      "STOP: TOTAL NO. of ITERATIONS REACHED LIMIT.\n",
      "\n",
      "Increase the number of iterations (max_iter) or scale the data as shown in:\n",
      "    https://scikit-learn.org/stable/modules/preprocessing.html\n",
      "Please also refer to the documentation for alternative solver options:\n",
      "    https://scikit-learn.org/stable/modules/linear_model.html#logistic-regression\n",
      "  n_iter_i = _check_optimize_result(\n"
     ]
    }
   ],
   "source": [
    "## LogisticRegression 이진분류 모형객체 \n",
    "\n",
    "from sklearn.linear_model import LogisticRegression\n",
    "from sklearn.model_selection import train_test_split\n",
    "from sklearn.datasets import load_breast_cancer\n",
    "\n",
    "breast_cancer = load_breast_cancer()\n",
    "\n",
    "data = breast_cancer.data\n",
    "target = breast_cancer.target\n",
    "\n",
    "print(data.shape)\n",
    "print(target.shape)\n",
    "\n",
    "\n",
    "# 1. \n",
    "X_train, X_test, y_train, y_test = train_test_split(\n",
    "    data, \n",
    "    target, \n",
    "    test_size=0.2, \n",
    "    random_state=2205, \n",
    "    stratify=target\n",
    ")\n",
    "\n",
    "\n",
    "# 2. \n",
    "lr_bin = LogisticRegression(\n",
    "    C=0.5, \n",
    "    max_iter=2000\n",
    ")\n",
    "lr_bin.fit(X_train, y_train)\n",
    "y_score = lr_bin.predict_proba(X_test)[:, 1]\n",
    "\n",
    "\n",
    "# 3. \n",
    "from sklearn.metrics import roc_curve, auc \n",
    "\n",
    "fpr, tpr, thresholds = roc_curve(y_test, y_score)\n",
    "AUC = auc(fpr, tpr)\n",
    "print(AUC)\n",
    "\n"
   ]
  },
  {
   "cell_type": "code",
   "execution_count": 29,
   "metadata": {},
   "outputs": [
    {
     "name": "stdout",
     "output_type": "stream",
     "text": [
      "(150, 4)\n",
      "(150,)\n",
      "[0 0 0 0 0 0 0 0 0 0 0 0 0 0 0 0 0 0 0 0 0 0 0 0 0 0 0 0 0 0 0 0 0 0 0 0 0\n",
      " 0 0 0 0 0 0 0 0 0 0 0 0 0 1 1 1 1 1 1 1 1 1 1 1 1 1 1 1 1 1 1 1 1 1 1 1 1\n",
      " 1 1 1 1 1 1 1 1 1 1 1 1 1 1 1 1 1 1 1 1 1 1 1 1 1 1 2 2 2 2 2 2 2 2 2 2 2\n",
      " 2 2 2 2 2 2 2 2 2 2 2 2 2 2 2 2 2 2 2 2 2 2 2 2 2 2 2 2 2 2 2 2 2 2 2 2 2\n",
      " 2 2]\n",
      "0.9665831244778612\n"
     ]
    }
   ],
   "source": [
    "## LogisticRegression() 다지분류 모형객체 \n",
    "\n",
    "from sklearn.linear_model import LogisticRegression\n",
    "from sklearn.model_selection import train_test_split\n",
    "from sklearn.datasets import load_iris \n",
    "\n",
    "iris = load_iris() \n",
    "data = iris.data \n",
    "target = iris.target\n",
    "\n",
    "print(data.shape)\n",
    "print(target.shape)\n",
    "print(target)\n",
    "\n",
    "\n",
    "# 1. 데이터분류\n",
    "X_train, X_test, y_train, y_test = train_test_split(\n",
    "    data, \n",
    "    target, \n",
    "    test_size=0.2, \n",
    "    random_state=2205, \n",
    "    stratify=target\n",
    ")\n",
    "\n",
    "# 2. 모델 불러와서 학습, 예측 \n",
    "\n",
    "lr_multi = LogisticRegression(C = 0.05, max_iter=200)\n",
    "lr_multi.fit(X_train, y_train)\n",
    "y_pred = lr_multi.predict(X_test)\n",
    "\n",
    "\n",
    "# 3. 검증\n",
    "\n",
    "from sklearn.metrics import f1_score \n",
    "\n",
    "f1_score = f1_score(y_test, y_pred, average=\"macro\")\n",
    "print(f1_score)\n"
   ]
  },
  {
   "cell_type": "code",
   "execution_count": null,
   "metadata": {},
   "outputs": [],
   "source": []
  }
 ],
 "metadata": {
  "kernelspec": {
   "display_name": "Python 3",
   "language": "python",
   "name": "python3"
  },
  "language_info": {
   "codemirror_mode": {
    "name": "ipython",
    "version": 3
   },
   "file_extension": ".py",
   "mimetype": "text/x-python",
   "name": "python",
   "nbconvert_exporter": "python",
   "pygments_lexer": "ipython3",
   "version": "3.12.4"
  }
 },
 "nbformat": 4,
 "nbformat_minor": 2
}
