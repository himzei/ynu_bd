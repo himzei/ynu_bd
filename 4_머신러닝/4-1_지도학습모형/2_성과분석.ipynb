{
 "cells": [
  {
   "cell_type": "code",
   "execution_count": 3,
   "metadata": {},
   "outputs": [
    {
     "data": {
      "text/html": [
       "<div>\n",
       "<style scoped>\n",
       "    .dataframe tbody tr th:only-of-type {\n",
       "        vertical-align: middle;\n",
       "    }\n",
       "\n",
       "    .dataframe tbody tr th {\n",
       "        vertical-align: top;\n",
       "    }\n",
       "\n",
       "    .dataframe thead th {\n",
       "        text-align: right;\n",
       "    }\n",
       "</style>\n",
       "<table border=\"1\" class=\"dataframe\">\n",
       "  <thead>\n",
       "    <tr style=\"text-align: right;\">\n",
       "      <th></th>\n",
       "      <th>예측0</th>\n",
       "      <th>예측1</th>\n",
       "    </tr>\n",
       "  </thead>\n",
       "  <tbody>\n",
       "    <tr>\n",
       "      <th>실제0</th>\n",
       "      <td>2</td>\n",
       "      <td>1</td>\n",
       "    </tr>\n",
       "    <tr>\n",
       "      <th>실제1</th>\n",
       "      <td>0</td>\n",
       "      <td>3</td>\n",
       "    </tr>\n",
       "  </tbody>\n",
       "</table>\n",
       "</div>"
      ],
      "text/plain": [
       "     예측0  예측1\n",
       "실제0    2    1\n",
       "실제1    0    3"
      ]
     },
     "execution_count": 3,
     "metadata": {},
     "output_type": "execute_result"
    }
   ],
   "source": [
    "y_true = [0, 0, 0, 1, 1, 1]\n",
    "y_pred = [0, 1, 0, 1, 1, 1]\n",
    "\n",
    "from sklearn.metrics import confusion_matrix\n",
    "\n",
    "result = confusion_matrix(y_true, y_pred)\n",
    "\n",
    "import pandas as pd\n",
    "\n",
    "df = pd.DataFrame(result, index=[\"실제0\", \"실제1\"], columns=[\"예측0\", \"예측1\"])\n",
    "df"
   ]
  },
  {
   "cell_type": "code",
   "execution_count": 5,
   "metadata": {},
   "outputs": [
    {
     "data": {
      "text/html": [
       "<div>\n",
       "<style scoped>\n",
       "    .dataframe tbody tr th:only-of-type {\n",
       "        vertical-align: middle;\n",
       "    }\n",
       "\n",
       "    .dataframe tbody tr th {\n",
       "        vertical-align: top;\n",
       "    }\n",
       "\n",
       "    .dataframe thead th {\n",
       "        text-align: right;\n",
       "    }\n",
       "</style>\n",
       "<table border=\"1\" class=\"dataframe\">\n",
       "  <thead>\n",
       "    <tr style=\"text-align: right;\">\n",
       "      <th></th>\n",
       "      <th>예측0</th>\n",
       "      <th>예측1</th>\n",
       "      <th>예측2</th>\n",
       "    </tr>\n",
       "  </thead>\n",
       "  <tbody>\n",
       "    <tr>\n",
       "      <th>실제0</th>\n",
       "      <td>1</td>\n",
       "      <td>2</td>\n",
       "      <td>0</td>\n",
       "    </tr>\n",
       "    <tr>\n",
       "      <th>실제1</th>\n",
       "      <td>1</td>\n",
       "      <td>1</td>\n",
       "      <td>0</td>\n",
       "    </tr>\n",
       "    <tr>\n",
       "      <th>실제2</th>\n",
       "      <td>1</td>\n",
       "      <td>1</td>\n",
       "      <td>2</td>\n",
       "    </tr>\n",
       "  </tbody>\n",
       "</table>\n",
       "</div>"
      ],
      "text/plain": [
       "     예측0  예측1  예측2\n",
       "실제0    1    2    0\n",
       "실제1    1    1    0\n",
       "실제2    1    1    2"
      ]
     },
     "execution_count": 5,
     "metadata": {},
     "output_type": "execute_result"
    }
   ],
   "source": [
    "y_true = [0, 0, 0, 1, 1, 2, 2, 2, 2]\n",
    "y_pred = [0, 1, 1, 1, 0, 0, 1, 2, 2]\n",
    "\n",
    "result = confusion_matrix(y_true, y_pred)\n",
    "\n",
    "pd.DataFrame(result, index=[\"실제0\", \"실제1\", \"실제2\"], columns=[\"예측0\", \"예측1\", \"예측2\"])"
   ]
  },
  {
   "cell_type": "code",
   "execution_count": 5,
   "metadata": {},
   "outputs": [
    {
     "name": "stdout",
     "output_type": "stream",
     "text": [
      "0.8333333333333334\n",
      "1.0\n",
      "0.75\n",
      "0.8571428571428571\n"
     ]
    }
   ],
   "source": [
    "from sklearn.metrics import accuracy_score, recall_score, precision_score, f1_score\n",
    "\n",
    "y_true = [0, 0, 0, 1, 1, 1] # 실제값\n",
    "y_pred = [0, 1, 0, 1, 1, 1] # 예측값\n",
    "\n",
    "\n",
    "# 정확도, 정분류율\n",
    "accuracy = accuracy_score(y_true, y_pred)\n",
    "print(accuracy)\n",
    "\n",
    "# 재현율(Reacall)\n",
    "recall = recall_score(y_true, y_pred)\n",
    "print(recall)\n",
    "\n",
    "# 정밀도\n",
    "precision = precision_score(y_true, y_pred)\n",
    "print(precision)\n",
    "\n",
    "f1 = f1_score(y_true, y_pred, average=\"macro\")\n",
    "print(f1)"
   ]
  },
  {
   "cell_type": "code",
   "execution_count": 8,
   "metadata": {},
   "outputs": [
    {
     "name": "stdout",
     "output_type": "stream",
     "text": [
      "0.888888888888889\n"
     ]
    }
   ],
   "source": [
    "## AUC \n",
    "\n",
    "from sklearn.metrics import roc_curve, auc \n",
    "\n",
    "\n",
    "y_true = [0, 0, 0, 1, 1, 1]\n",
    "y_score = [0.1, 0.75, 0.35, 0.92, 0.81, 0.68]\n",
    "\n",
    "fpr, tpr, thresholds = roc_curve(y_true, y_score)\n",
    "\n",
    "AUC = auc(fpr, tpr)\n",
    "\n",
    "print(AUC)"
   ]
  },
  {
   "cell_type": "code",
   "execution_count": 13,
   "metadata": {},
   "outputs": [
    {
     "name": "stdout",
     "output_type": "stream",
     "text": [
      "0.17581754220802784\n",
      "0.36474003862364796\n",
      "1.0843148337483364\n"
     ]
    }
   ],
   "source": [
    "from sklearn.metrics import mean_squared_error, mean_absolute_error, mean_absolute_percentage_error\n",
    "\n",
    "import numpy as np \n",
    "\n",
    "np.random.seed(123)\n",
    "\n",
    "y_true = np.random.random_sample(5)\n",
    "y_pred = np.random.random_sample(5)\n",
    "\n",
    "mse = mean_squared_error(y_true, y_pred)\n",
    "print(mse)\n",
    "\n",
    "mae = mean_absolute_error(y_true, y_pred)\n",
    "print(mae)\n",
    "\n",
    "mape = mean_absolute_percentage_error(y_true, y_pred)\n",
    "print(mape)\n",
    "\n",
    "\n"
   ]
  },
  {
   "cell_type": "code",
   "execution_count": null,
   "metadata": {},
   "outputs": [],
   "source": []
  }
 ],
 "metadata": {
  "kernelspec": {
   "display_name": "Python 3",
   "language": "python",
   "name": "python3"
  },
  "language_info": {
   "codemirror_mode": {
    "name": "ipython",
    "version": 3
   },
   "file_extension": ".py",
   "mimetype": "text/x-python",
   "name": "python",
   "nbconvert_exporter": "python",
   "pygments_lexer": "ipython3",
   "version": "3.12.4"
  }
 },
 "nbformat": 4,
 "nbformat_minor": 2
}
