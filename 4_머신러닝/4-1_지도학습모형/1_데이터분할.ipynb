{
 "cells": [
  {
   "cell_type": "code",
   "execution_count": 7,
   "metadata": {},
   "outputs": [
    {
     "data": {
      "text/plain": [
       "((398, 30), (171, 30), (398,), (171,))"
      ]
     },
     "execution_count": 7,
     "metadata": {},
     "output_type": "execute_result"
    }
   ],
   "source": [
    "from sklearn.datasets import load_breast_cancer\n",
    "\n",
    "breat_cancer = load_breast_cancer()\n",
    "\n",
    "data = breat_cancer.data\n",
    "target = breat_cancer.target\n",
    "\n",
    "from sklearn.model_selection import train_test_split\n",
    "\n",
    "X_train, X_test, y_train, y_test=  train_test_split(\n",
    "    data, \n",
    "    target, \n",
    "    test_size=0.3, \n",
    "    random_state=2022, \n",
    "    shuffle=True\n",
    ")\n",
    "X_train.shape, X_test.shape, y_train.shape, y_test.shape\n",
    "\n",
    "X_train, X_test, y_train, y_test=  train_test_split(\n",
    "    data, \n",
    "    target, \n",
    "    test_size=0.3, \n",
    "    random_state=2022, \n",
    "    stratify=target\n",
    ")\n"
   ]
  },
  {
   "cell_type": "code",
   "execution_count": 8,
   "metadata": {},
   "outputs": [
    {
     "name": "stdout",
     "output_type": "stream",
     "text": [
      "학습:  [2 3 4 5 6 7 8 9] 평가:  [0 1]\n",
      "학습:  [0 1 4 5 6 7 8 9] 평가:  [2 3]\n",
      "학습:  [0 1 2 3 6 7 8 9] 평가:  [4 5]\n",
      "학습:  [0 1 2 3 4 5 8 9] 평가:  [6 7]\n",
      "학습:  [0 1 2 3 4 5 6 7] 평가:  [8 9]\n"
     ]
    }
   ],
   "source": [
    "### K-fold \n",
    "\n",
    "import numpy as np \n",
    "X = np.arange(10)\n",
    "\n",
    "from sklearn.model_selection import KFold\n",
    "\n",
    "kfold = KFold(n_splits=5)\n",
    "\n",
    "for train_idx, test_idx in kfold.split(X): \n",
    "    print(\"학습: \", train_idx, \"평가: \", test_idx)"
   ]
  },
  {
   "cell_type": "code",
   "execution_count": 10,
   "metadata": {},
   "outputs": [
    {
     "name": "stdout",
     "output_type": "stream",
     "text": [
      "학습:  [ 2  3  4  5  7  8 11 12 13 14] 평가:  [ 0  1  6  9 10]\n",
      "학습:  [ 0  1  4  5  6  8  9 10 13 14] 평가:  [ 2  3  7 11 12]\n",
      "학습:  [ 0  1  2  3  6  7  9 10 11 12] 평가:  [ 4  5  8 13 14]\n"
     ]
    }
   ],
   "source": [
    "import numpy as np \n",
    "\n",
    "X = np.arange(15)\n",
    "y = [0] * 6 + [1] * 3 + [2] * 6\n",
    "y\n",
    "\n",
    "from sklearn.model_selection import StratifiedKFold\n",
    "\n",
    "kfold = StratifiedKFold(n_splits=3)\n",
    "\n",
    "for train_idx, test_idx in kfold.split(X, y):\n",
    "    print(\"학습: \", train_idx, \"평가: \", test_idx)"
   ]
  },
  {
   "cell_type": "code",
   "execution_count": null,
   "metadata": {},
   "outputs": [],
   "source": []
  }
 ],
 "metadata": {
  "kernelspec": {
   "display_name": "Python 3",
   "language": "python",
   "name": "python3"
  },
  "language_info": {
   "codemirror_mode": {
    "name": "ipython",
    "version": 3
   },
   "file_extension": ".py",
   "mimetype": "text/x-python",
   "name": "python",
   "nbconvert_exporter": "python",
   "pygments_lexer": "ipython3",
   "version": "3.12.4"
  }
 },
 "nbformat": 4,
 "nbformat_minor": 2
}
