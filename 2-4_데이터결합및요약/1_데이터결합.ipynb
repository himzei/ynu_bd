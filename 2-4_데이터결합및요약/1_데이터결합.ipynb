{
 "cells": [
  {
   "cell_type": "code",
   "execution_count": null,
   "metadata": {},
   "outputs": [],
   "source": [
    "import pandas as pd\n",
    "\n",
    "obj1 = {\n",
    "    \"student_id\": ['s1', 's2', 's3', 's4', 's5', 's6'], \n",
    "    'score': [55, 90, 85, 71, 63, 99]\n",
    "}\n",
    "\n",
    "df1 = pd.DataFrame(obj1)\n",
    "\n",
    "obj2 = {\n",
    "    \"student_id\": ['t1', 't2', 't3', 't4', 't5', 't6'], \n",
    "    \"score\": [65, 99, 87, 75, 57, 88]\n",
    "}\n",
    "\n",
    "df2 = pd.DataFrame(obj2)\n",
    "\n"
   ]
  },
  {
   "cell_type": "code",
   "execution_count": null,
   "metadata": {},
   "outputs": [],
   "source": [
    "pd.concat([df1, df2], axis=0)"
   ]
  },
  {
   "cell_type": "code",
   "execution_count": null,
   "metadata": {},
   "outputs": [],
   "source": [
    "pd.concat([df1, df2], axis=1)"
   ]
  },
  {
   "cell_type": "code",
   "execution_count": null,
   "metadata": {},
   "outputs": [],
   "source": [
    "# 데이터 병합\n",
    "\n",
    "obj1 = {\n",
    "    \"student_id\": ['s3', 's4', 's5', 's6'],\n",
    "    \"stat_core\": [85, 71, 63, 99], \n",
    "}\n",
    "\n",
    "df1 = pd.DataFrame(obj1)\n",
    "\n",
    "\n",
    "obj2 = {\n",
    "    \"student_id\": ['s1', 's2', 's3', 's4'],\n",
    "    \"math_score\": [35, 99, 87, 75], \n",
    "}\n",
    "\n",
    "df2 = pd.DataFrame(obj2)\n",
    "\n"
   ]
  },
  {
   "cell_type": "code",
   "execution_count": null,
   "metadata": {},
   "outputs": [],
   "source": [
    "df1"
   ]
  },
  {
   "cell_type": "code",
   "execution_count": null,
   "metadata": {},
   "outputs": [],
   "source": [
    "df2"
   ]
  },
  {
   "cell_type": "code",
   "execution_count": null,
   "metadata": {},
   "outputs": [],
   "source": [
    "df1.merge(df2, on=\"student_id\")"
   ]
  },
  {
   "cell_type": "code",
   "execution_count": null,
   "metadata": {},
   "outputs": [],
   "source": [
    "df1.merge(df2, how=\"outer\", on=\"student_id\")"
   ]
  },
  {
   "cell_type": "code",
   "execution_count": null,
   "metadata": {},
   "outputs": [],
   "source": [
    "df1"
   ]
  },
  {
   "cell_type": "code",
   "execution_count": null,
   "metadata": {},
   "outputs": [],
   "source": [
    "df2"
   ]
  },
  {
   "cell_type": "code",
   "execution_count": null,
   "metadata": {},
   "outputs": [],
   "source": [
    "df1.merge(df2, how=\"left\", on=\"student_id\")"
   ]
  },
  {
   "cell_type": "code",
   "execution_count": null,
   "metadata": {},
   "outputs": [],
   "source": [
    "df1.merge(df2, how=\"right\", on=\"student_id\")"
   ]
  },
  {
   "cell_type": "code",
   "execution_count": null,
   "metadata": {},
   "outputs": [],
   "source": []
  }
 ],
 "metadata": {
  "kernelspec": {
   "display_name": "Python 3",
   "language": "python",
   "name": "python3"
  },
  "language_info": {
   "codemirror_mode": {
    "name": "ipython",
    "version": 3
   },
   "file_extension": ".py",
   "mimetype": "text/x-python",
   "name": "python",
   "nbconvert_exporter": "python",
   "pygments_lexer": "ipython3",
   "version": "3.12.4"
  }
 },
 "nbformat": 4,
 "nbformat_minor": 2
}
