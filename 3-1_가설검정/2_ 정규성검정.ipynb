{
 "cells": [
  {
   "cell_type": "code",
   "execution_count": 10,
   "metadata": {},
   "outputs": [
    {
     "data": {
      "text/plain": [
       "ShapiroResult(statistic=np.float64(0.8969662710477171), pvalue=np.float64(0.20285343366469372))"
      ]
     },
     "execution_count": 10,
     "metadata": {},
     "output_type": "execute_result"
    }
   ],
   "source": [
    "import numpy as np \n",
    "\n",
    "np.random.seed(2024)\n",
    "x = np.random.random(10)\n",
    "\n",
    "from scipy.stats import shapiro \n",
    "\n",
    "shapiro(x)\n",
    "\n",
    "# 귀무가설 : 데이터는 정규분포를 따른다. \n",
    "# 대립가설 : 데이터는 정규분포를 따르지 않는다 \n",
    "# pvalue 0.20285343366469372 이고 0.05 크기 때문에 귀무가설 채택합니다."
   ]
  },
  {
   "cell_type": "code",
   "execution_count": null,
   "metadata": {},
   "outputs": [],
   "source": []
  }
 ],
 "metadata": {
  "kernelspec": {
   "display_name": "Python 3",
   "language": "python",
   "name": "python3"
  },
  "language_info": {
   "codemirror_mode": {
    "name": "ipython",
    "version": 3
   },
   "file_extension": ".py",
   "mimetype": "text/x-python",
   "name": "python",
   "nbconvert_exporter": "python",
   "pygments_lexer": "ipython3",
   "version": "3.12.4"
  }
 },
 "nbformat": 4,
 "nbformat_minor": 2
}
