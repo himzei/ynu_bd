{
 "cells": [
  {
   "cell_type": "code",
   "execution_count": 7,
   "metadata": {},
   "outputs": [
    {
     "name": "stdout",
     "output_type": "stream",
     "text": [
      "66.56428571428572\n",
      "TtestResult(statistic=np.float64(-1.0289933120202257), pvalue=np.float64(0.3222484823978743), df=np.int64(13))\n"
     ]
    }
   ],
   "source": [
    "# 가. 단일표본 t-검정\n",
    "\n",
    "import numpy as np \n",
    "kg = np.array([75.5, 83.9, 75.7, 56.2, 73.4, 67.7, 79.0, 50.7, 58.4, 74.1, 65.1, 77.8, 48.1, 46.3])\n",
    "\n",
    "print(np.mean(kg))\n",
    "\n",
    "from scipy.stats import ttest_1samp\n",
    "print(ttest_1samp(kg, 70))\n",
    "\n",
    "# 귀무가설: 샘플데이터는 70과 (거의)같다 \n",
    "# 대립가설: 샘플데이터는 70과 다르다 \n"
   ]
  },
  {
   "cell_type": "code",
   "execution_count": 4,
   "metadata": {},
   "outputs": [
    {
     "name": "stdout",
     "output_type": "stream",
     "text": [
      "TtestResult(statistic=np.float64(1.9659976169367743), pvalue=np.float64(0.07102585780287406), df=np.int64(13))\n"
     ]
    }
   ],
   "source": [
    "print(ttest_1samp(kg, 60))\n",
    "\n",
    "# 귀무가설: 샘플데이터는 60과 (거의)같다 \n",
    "# 대립가설: 샘플데이터는 60과 다르다 "
   ]
  },
  {
   "cell_type": "code",
   "execution_count": 5,
   "metadata": {},
   "outputs": [
    {
     "name": "stdout",
     "output_type": "stream",
     "text": [
      "TtestResult(statistic=np.float64(4.960988545893774), pvalue=np.float64(0.0002603167434841765), df=np.int64(13))\n"
     ]
    }
   ],
   "source": [
    "print(ttest_1samp(kg, 50))\n",
    "\n",
    "# 귀무가설: 샘플데이터의 평균는 50과 (거의)같다 \n",
    "# 대립가설: 샘플데이터의 평균는 50과 다르다 "
   ]
  },
  {
   "cell_type": "code",
   "execution_count": 6,
   "metadata": {},
   "outputs": [
    {
     "name": "stdout",
     "output_type": "stream",
     "text": [
      "TtestResult(statistic=np.float64(-1.0289933120202257), pvalue=np.float64(0.3222484823978743), df=np.int64(13))\n"
     ]
    }
   ],
   "source": [
    "print(ttest_1samp(kg, 70, alternative=\"two-sided\"))\n",
    "\n",
    "# 귀무가설: 샘플데이터는 70과 (거의)같다 \n",
    "# 대립가설: 샘플데이터는 70과 다르다 "
   ]
  },
  {
   "cell_type": "code",
   "execution_count": 8,
   "metadata": {},
   "outputs": [
    {
     "name": "stdout",
     "output_type": "stream",
     "text": [
      "TtestResult(statistic=np.float64(-1.0289933120202257), pvalue=np.float64(0.8388757588010629), df=np.int64(13))\n"
     ]
    }
   ],
   "source": [
    "print(ttest_1samp(kg, 70, alternative=\"greater\"))\n",
    "\n",
    "# 귀무가설: 샘플데이터의 평균이 70보다 작거나 같다 \n",
    "# 대립가설: 샘플데이터의 평균이 70보다 크다"
   ]
  },
  {
   "cell_type": "code",
   "execution_count": 10,
   "metadata": {},
   "outputs": [
    {
     "name": "stdout",
     "output_type": "stream",
     "text": [
      "TtestResult(statistic=np.float64(-4.023984240977226), pvalue=np.float64(0.0007226744787938747), df=np.int64(13))\n"
     ]
    }
   ],
   "source": [
    "print(ttest_1samp(kg, 80, alternative=\"less\"))\n",
    "\n",
    "# 귀무가설: 샘플데이터의 평균이 80보다 크거나 같다 \n",
    "# 대립가설: 샘플데이터의 평균이 80보다 작다"
   ]
  },
  {
   "cell_type": "code",
   "execution_count": 18,
   "metadata": {},
   "outputs": [
    {
     "name": "stdout",
     "output_type": "stream",
     "text": [
      "nan\n"
     ]
    },
    {
     "name": "stderr",
     "output_type": "stream",
     "text": [
      "C:\\Users\\HRD영대\\AppData\\Local\\Temp\\ipykernel_11852\\741248381.py:9: RuntimeWarning: invalid value encountered in sqrt\n",
      "  print(np.sqrt(np.mean(diff)))\n"
     ]
    },
    {
     "data": {
      "text/plain": [
       "TtestResult(statistic=np.float64(-2.078446933064972), pvalue=np.float64(0.08291274205610201), df=np.int64(6))"
      ]
     },
     "execution_count": 18,
     "metadata": {},
     "output_type": "execute_result"
    }
   ],
   "source": [
    "# 나. 대응표본 t-검정\n",
    "\n",
    "import numpy as np\n",
    "\n",
    "female = np.array([50.7, 58.4, 74.1, 65.1, 77.8, 48.1, 46.3])\n",
    "male = np.array([75.5, 83.9, 75.7, 56.2, 73.4, 67.7, 79.0])\n",
    "\n",
    "diff = female - male\n",
    "\n",
    "\n",
    "from scipy.stats import ttest_rel\n",
    "\n",
    "ttest_rel(female, male)\n",
    "\n",
    " # H0 : 여성과 남성의 몸무게의 평균은 차이가 없다. \n",
    " # H1 : 여성과 남성의 몸무게의 평균은 차이가 있다. \n"
   ]
  },
  {
   "cell_type": "code",
   "execution_count": 22,
   "metadata": {},
   "outputs": [
    {
     "name": "stdout",
     "output_type": "stream",
     "text": [
      "<class 'pandas.core.frame.DataFrame'>\n",
      "RangeIndex: 20 entries, 0 to 19\n",
      "Data columns (total 2 columns):\n",
      " #   Column  Non-Null Count  Dtype\n",
      "---  ------  --------------  -----\n",
      " 0   before  20 non-null     int64\n",
      " 1   after   20 non-null     int64\n",
      "dtypes: int64(2)\n",
      "memory usage: 452.0 bytes\n"
     ]
    },
    {
     "data": {
      "text/plain": [
       "TtestResult(statistic=np.float64(7.6950728157667845), pvalue=np.float64(2.970355445926918e-07), df=np.int64(19))"
      ]
     },
     "execution_count": 22,
     "metadata": {},
     "output_type": "execute_result"
    }
   ],
   "source": [
    "import pandas as pd \n",
    "df = pd.read_csv(\"./data/대응표본_sample.csv\")\n",
    "\n",
    "df.head()\n",
    "df.info()\n",
    "\n",
    "from scipy.stats import ttest_rel\n",
    "\n",
    "ttest_rel(df[\"before\"], df[\"after\"])\n",
    "\n",
    "# 귀무가설 : 두 그룹간의 평균의 차이가 없다 \n",
    "# 대립가설 : 두 그룹간의 평균의 차이가 있다. \n"
   ]
  },
  {
   "cell_type": "code",
   "execution_count": 23,
   "metadata": {},
   "outputs": [
    {
     "data": {
      "text/plain": [
       "TtestResult(statistic=np.float64(-2.2186641577772956), pvalue=np.float64(0.046550122110569664), df=np.float64(12.0))"
      ]
     },
     "execution_count": 23,
     "metadata": {},
     "output_type": "execute_result"
    }
   ],
   "source": [
    "# 다. 독립표본 t-검정\n",
    "\n",
    "from scipy.stats import ttest_ind \n",
    "\n",
    "ttest_ind(female, male)"
   ]
  },
  {
   "cell_type": "code",
   "execution_count": null,
   "metadata": {},
   "outputs": [],
   "source": []
  }
 ],
 "metadata": {
  "kernelspec": {
   "display_name": "Python 3",
   "language": "python",
   "name": "python3"
  },
  "language_info": {
   "codemirror_mode": {
    "name": "ipython",
    "version": 3
   },
   "file_extension": ".py",
   "mimetype": "text/x-python",
   "name": "python",
   "nbconvert_exporter": "python",
   "pygments_lexer": "ipython3",
   "version": "3.12.4"
  }
 },
 "nbformat": 4,
 "nbformat_minor": 2
}
