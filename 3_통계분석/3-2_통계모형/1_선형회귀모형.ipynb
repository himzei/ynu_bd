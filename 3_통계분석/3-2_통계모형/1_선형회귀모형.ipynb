{
 "cells": [
  {
   "cell_type": "code",
   "execution_count": 11,
   "metadata": {},
   "outputs": [
    {
     "name": "stdout",
     "output_type": "stream",
     "text": [
      "LinregressResult(slope=np.float64(949.4352603840384), intercept=np.float64(152.13348416289617), rvalue=np.float64(0.5864501344746884), pvalue=np.float64(3.466006445167547e-42), stderr=np.float64(62.515122002852664), intercept_stderr=np.float64(2.973541118790735))\n"
     ]
    }
   ],
   "source": [
    "# Scipy를 활용한 단순 선형 회귀분석 \n",
    "\n",
    "import pandas as pd \n",
    "from sklearn.datasets import load_diabetes\n",
    "\n",
    "diabetes = load_diabetes()\n",
    "\n",
    "data = pd.DataFrame(diabetes.data, columns=diabetes.feature_names)\n",
    "# diabetes[\"target\"]\n",
    "target = diabetes.target\n",
    "# print(target)\n",
    "\n",
    "from scipy.stats import linregress\n",
    "\n",
    "model = linregress(data[\"bmi\"], target)\n",
    "print(model)\n",
    "\n",
    "# 귀무가설: BMI와 당뇨병 진행정도 사이에 선형관계 없다. \n",
    "# 대립가설: BMI와 당뇨병 진행정도 사이에 선형관계가 있다. \n"
   ]
  },
  {
   "cell_type": "code",
   "execution_count": 14,
   "metadata": {},
   "outputs": [
    {
     "name": "stdout",
     "output_type": "stream",
     "text": [
      "949.4352603840384\n"
     ]
    }
   ],
   "source": [
    "# 독립변수에 대한 추정된 회귀계수(Slope)\n",
    "print(model.slope)"
   ]
  },
  {
   "cell_type": "code",
   "execution_count": 15,
   "metadata": {},
   "outputs": [
    {
     "name": "stdout",
     "output_type": "stream",
     "text": [
      "152.13348416289617\n"
     ]
    }
   ],
   "source": [
    "# 상수항에 대한 추정된 회귀계수 \n",
    "print(model.intercept)"
   ]
  },
  {
   "cell_type": "code",
   "execution_count": 16,
   "metadata": {},
   "outputs": [
    {
     "name": "stdout",
     "output_type": "stream",
     "text": [
      "3.466006445167547e-42\n",
      "0.5864501344746884\n"
     ]
    }
   ],
   "source": [
    "# p-value (통계적 유의성)\n",
    "print(model.pvalue)\n",
    "\n",
    "# 결정계수 (모형의 설명력)\n",
    "print(model.rvalue)"
   ]
  },
  {
   "cell_type": "code",
   "execution_count": 22,
   "metadata": {},
   "outputs": [
    {
     "name": "stdout",
     "output_type": "stream",
     "text": [
      "                            OLS Regression Results                            \n",
      "==============================================================================\n",
      "Dep. Variable:                    tip   R-squared:                       0.468\n",
      "Model:                            OLS   Adj. R-squared:                  0.463\n",
      "Method:                 Least Squares   F-statistic:                     105.9\n",
      "Date:                Tue, 01 Oct 2024   Prob (F-statistic):           9.67e-34\n",
      "Time:                        21:39:54   Log-Likelihood:                -347.99\n",
      "No. Observations:                 244   AIC:                             702.0\n",
      "Df Residuals:                     241   BIC:                             712.5\n",
      "Df Model:                           2                                         \n",
      "Covariance Type:            nonrobust                                         \n",
      "==============================================================================\n",
      "                 coef    std err          t      P>|t|      [0.025      0.975]\n",
      "------------------------------------------------------------------------------\n",
      "const          0.6689      0.194      3.455      0.001       0.288       1.050\n",
      "total_bill     0.0927      0.009     10.172      0.000       0.075       0.111\n",
      "size           0.1926      0.085      2.258      0.025       0.025       0.361\n",
      "==============================================================================\n",
      "Omnibus:                       24.753   Durbin-Watson:                   2.100\n",
      "Prob(Omnibus):                  0.000   Jarque-Bera (JB):               46.169\n",
      "Skew:                           0.545   Prob(JB):                     9.43e-11\n",
      "Kurtosis:                       4.831   Cond. No.                         67.6\n",
      "==============================================================================\n",
      "\n",
      "Notes:\n",
      "[1] Standard Errors assume that the covariance matrix of the errors is correctly specified.\n"
     ]
    }
   ],
   "source": [
    "# Statsmodels를 활용한 다중 선형 회귀분석\n",
    "\n",
    "import pandas as pd\n",
    "\n",
    "tips = pd.read_csv(\"./예제/tips.csv\")\n",
    "tips.head()\n",
    "\n",
    "import statsmodels.api as sm\n",
    "\n",
    "X = tips[[\"total_bill\", \"size\"]]\n",
    "y = tips[\"tip\"]\n",
    "\n",
    "X = sm.add_constant(X) # 상수항 추가\n",
    "\n",
    "model = sm.OLS(y, X).fit()\n",
    "print(model.summary())\n"
   ]
  },
  {
   "cell_type": "code",
   "execution_count": null,
   "metadata": {},
   "outputs": [],
   "source": []
  }
 ],
 "metadata": {
  "kernelspec": {
   "display_name": "Python 3",
   "language": "python",
   "name": "python3"
  },
  "language_info": {
   "codemirror_mode": {
    "name": "ipython",
    "version": 3
   },
   "file_extension": ".py",
   "mimetype": "text/x-python",
   "name": "python",
   "nbconvert_exporter": "python",
   "pygments_lexer": "ipython3",
   "version": "3.12.4"
  }
 },
 "nbformat": 4,
 "nbformat_minor": 2
}
