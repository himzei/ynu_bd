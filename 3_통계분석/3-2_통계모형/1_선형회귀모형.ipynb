{
 "cells": [
  {
   "cell_type": "code",
   "execution_count": 1,
   "metadata": {},
   "outputs": [
    {
     "name": "stdout",
     "output_type": "stream",
     "text": [
      "LinregressResult(slope=np.float64(949.4352603840384), intercept=np.float64(152.13348416289617), rvalue=np.float64(0.5864501344746884), pvalue=np.float64(3.466006445167547e-42), stderr=np.float64(62.515122002852664), intercept_stderr=np.float64(2.973541118790735))\n"
     ]
    }
   ],
   "source": [
    "# Scipy를 활용한 단순 선형 회귀분석 \n",
    "\n",
    "import pandas as pd \n",
    "from sklearn.datasets import load_diabetes\n",
    "\n",
    "diabetes = load_diabetes()\n",
    "\n",
    "data = pd.DataFrame(diabetes.data, columns=diabetes.feature_names)\n",
    "# diabetes[\"target\"]\n",
    "target = diabetes.target\n",
    "# print(target)\n",
    "\n",
    "from scipy.stats import linregress\n",
    "\n",
    "model = linregress(data[\"bmi\"], target)\n",
    "print(model)\n",
    "\n",
    "# 귀무가설: BMI와 당뇨병 진행정도 사이에 선형관계 없다. \n",
    "# 대립가설: BMI와 당뇨병 진행정도 사이에 선형관계가 있다. \n"
   ]
  },
  {
   "cell_type": "markdown",
   "metadata": {},
   "source": []
  },
  {
   "cell_type": "code",
   "execution_count": null,
   "metadata": {},
   "outputs": [],
   "source": [
    "# 독립변수에 대한 추정된 회귀계수(Slope)\n",
    "print(model.slope)"
   ]
  },
  {
   "cell_type": "code",
   "execution_count": null,
   "metadata": {},
   "outputs": [],
   "source": [
    "# 상수항에 대한 추정된 회귀계수 \n",
    "print(model.intercept)"
   ]
  },
  {
   "cell_type": "code",
   "execution_count": null,
   "metadata": {},
   "outputs": [],
   "source": [
    "# p-value (통계적 유의성)\n",
    "print(model.pvalue)\n",
    "\n",
    "# 결정계수 (모형의 설명력)\n",
    "print(model.rvalue)"
   ]
  },
  {
   "cell_type": "code",
   "execution_count": 11,
   "metadata": {},
   "outputs": [
    {
     "name": "stdout",
     "output_type": "stream",
     "text": [
      "                            OLS Regression Results                            \n",
      "==============================================================================\n",
      "Dep. Variable:                    tip   R-squared:                       0.468\n",
      "Model:                            OLS   Adj. R-squared:                  0.463\n",
      "Method:                 Least Squares   F-statistic:                     105.9\n",
      "Date:                Wed, 02 Oct 2024   Prob (F-statistic):           9.67e-34\n",
      "Time:                        18:25:08   Log-Likelihood:                -347.99\n",
      "No. Observations:                 244   AIC:                             702.0\n",
      "Df Residuals:                     241   BIC:                             712.5\n",
      "Df Model:                           2                                         \n",
      "Covariance Type:            nonrobust                                         \n",
      "==============================================================================\n",
      "                 coef    std err          t      P>|t|      [0.025      0.975]\n",
      "------------------------------------------------------------------------------\n",
      "const          0.6689      0.194      3.455      0.001       0.288       1.050\n",
      "total_bill     0.0927      0.009     10.172      0.000       0.075       0.111\n",
      "size           0.1926      0.085      2.258      0.025       0.025       0.361\n",
      "==============================================================================\n",
      "Omnibus:                       24.753   Durbin-Watson:                   2.100\n",
      "Prob(Omnibus):                  0.000   Jarque-Bera (JB):               46.169\n",
      "Skew:                           0.545   Prob(JB):                     9.43e-11\n",
      "Kurtosis:                       4.831   Cond. No.                         67.6\n",
      "==============================================================================\n",
      "\n",
      "Notes:\n",
      "[1] Standard Errors assume that the covariance matrix of the errors is correctly specified.\n"
     ]
    }
   ],
   "source": [
    "# Statsmodels를 활용한 다중 선형 회귀분석\n",
    "\n",
    "import pandas as pd\n",
    "\n",
    "tips = pd.read_csv(\"./예제/tips.csv\")\n",
    "tips.head()\n",
    "\n",
    "import statsmodels.api as sm\n",
    "\n",
    "X = tips[[\"total_bill\", \"size\"]]\n",
    "y = tips[\"tip\"]\n",
    "\n",
    "X = sm.add_constant(X) # 상수항 추가''1_선형회귀모형.ipynb\n",
    "\n",
    "model = sm.OLS(y, X).fit()\n",
    "print(model.summary())\n"
   ]
  },
  {
   "cell_type": "code",
   "execution_count": 7,
   "metadata": {},
   "outputs": [
    {
     "name": "stdout",
     "output_type": "stream",
     "text": [
      "                            OLS Regression Results                            \n",
      "==============================================================================\n",
      "Dep. Variable:                    tip   R-squared:                       0.468\n",
      "Model:                            OLS   Adj. R-squared:                  0.463\n",
      "Method:                 Least Squares   F-statistic:                     105.9\n",
      "Date:                Wed, 02 Oct 2024   Prob (F-statistic):           9.67e-34\n",
      "Time:                        18:21:52   Log-Likelihood:                -347.99\n",
      "No. Observations:                 244   AIC:                             702.0\n",
      "Df Residuals:                     241   BIC:                             712.5\n",
      "Df Model:                           2                                         \n",
      "Covariance Type:            nonrobust                                         \n",
      "==============================================================================\n",
      "                 coef    std err          t      P>|t|      [0.025      0.975]\n",
      "------------------------------------------------------------------------------\n",
      "Intercept      0.6689      0.194      3.455      0.001       0.288       1.050\n",
      "total_bill     0.0927      0.009     10.172      0.000       0.075       0.111\n",
      "size           0.1926      0.085      2.258      0.025       0.025       0.361\n",
      "==============================================================================\n",
      "Omnibus:                       24.753   Durbin-Watson:                   2.100\n",
      "Prob(Omnibus):                  0.000   Jarque-Bera (JB):               46.169\n",
      "Skew:                           0.545   Prob(JB):                     9.43e-11\n",
      "Kurtosis:                       4.831   Cond. No.                         67.6\n",
      "==============================================================================\n",
      "\n",
      "Notes:\n",
      "[1] Standard Errors assume that the covariance matrix of the errors is correctly specified.\n"
     ]
    }
   ],
   "source": [
    "import pandas as pd\n",
    "\n",
    "tips = pd.read_csv(\"./예제/tips.csv\")\n",
    "tips.head()\n",
    "\n",
    "formula = \"tip ~ total_bill + size\"\n",
    "\n",
    "from statsmodels.formula.api import ols \n",
    "\n",
    "model = ols(formula, data=tips).fit()\n",
    "print(model.summary())"
   ]
  },
  {
   "cell_type": "code",
   "execution_count": 8,
   "metadata": {},
   "outputs": [
    {
     "data": {
      "text/html": [
       "<div>\n",
       "<style scoped>\n",
       "    .dataframe tbody tr th:only-of-type {\n",
       "        vertical-align: middle;\n",
       "    }\n",
       "\n",
       "    .dataframe tbody tr th {\n",
       "        vertical-align: top;\n",
       "    }\n",
       "\n",
       "    .dataframe thead th {\n",
       "        text-align: right;\n",
       "    }\n",
       "</style>\n",
       "<table border=\"1\" class=\"dataframe\">\n",
       "  <thead>\n",
       "    <tr style=\"text-align: right;\">\n",
       "      <th></th>\n",
       "      <th>const</th>\n",
       "      <th>total_bill</th>\n",
       "      <th>size</th>\n",
       "    </tr>\n",
       "  </thead>\n",
       "  <tbody>\n",
       "    <tr>\n",
       "      <th>0</th>\n",
       "      <td>1.0</td>\n",
       "      <td>16.99</td>\n",
       "      <td>2</td>\n",
       "    </tr>\n",
       "    <tr>\n",
       "      <th>1</th>\n",
       "      <td>1.0</td>\n",
       "      <td>10.34</td>\n",
       "      <td>3</td>\n",
       "    </tr>\n",
       "    <tr>\n",
       "      <th>2</th>\n",
       "      <td>1.0</td>\n",
       "      <td>21.01</td>\n",
       "      <td>3</td>\n",
       "    </tr>\n",
       "    <tr>\n",
       "      <th>3</th>\n",
       "      <td>1.0</td>\n",
       "      <td>23.68</td>\n",
       "      <td>2</td>\n",
       "    </tr>\n",
       "    <tr>\n",
       "      <th>4</th>\n",
       "      <td>1.0</td>\n",
       "      <td>24.59</td>\n",
       "      <td>4</td>\n",
       "    </tr>\n",
       "  </tbody>\n",
       "</table>\n",
       "</div>"
      ],
      "text/plain": [
       "   const  total_bill  size\n",
       "0    1.0       16.99     2\n",
       "1    1.0       10.34     3\n",
       "2    1.0       21.01     3\n",
       "3    1.0       23.68     2\n",
       "4    1.0       24.59     4"
      ]
     },
     "execution_count": 8,
     "metadata": {},
     "output_type": "execute_result"
    }
   ],
   "source": [
    "X.head()"
   ]
  },
  {
   "cell_type": "code",
   "execution_count": 9,
   "metadata": {},
   "outputs": [
    {
     "data": {
      "text/plain": [
       "const          1.00\n",
       "total_bill    24.59\n",
       "size           4.00\n",
       "Name: 4, dtype: float64"
      ]
     },
     "execution_count": 9,
     "metadata": {},
     "output_type": "execute_result"
    }
   ],
   "source": [
    "X.iloc[4]"
   ]
  },
  {
   "cell_type": "code",
   "execution_count": 12,
   "metadata": {},
   "outputs": [
    {
     "data": {
      "text/plain": [
       "None    3.719157\n",
       "dtype: float64"
      ]
     },
     "execution_count": 12,
     "metadata": {},
     "output_type": "execute_result"
    }
   ],
   "source": [
    "model.predict(X.iloc[4])"
   ]
  },
  {
   "cell_type": "code",
   "execution_count": 18,
   "metadata": {},
   "outputs": [
    {
     "name": "stdout",
     "output_type": "stream",
     "text": [
      "       mean  mean_se  mean_ci_lower  mean_ci_upper  obs_ci_lower  obs_ci_upper\n",
      "0  3.719157  0.12093       3.480943       3.957371      1.708534      5.729779\n"
     ]
    }
   ],
   "source": [
    "import pandas as pd \n",
    "\n",
    "new_data = pd.DataFrame(\n",
    "    {\n",
    "        'const': [1],\n",
    "        'total_bill': [24.59], \n",
    "        'size': [4], \n",
    "    }\n",
    ")\n",
    "\n",
    "result = model.get_prediction(new_data)\n",
    "print(result.summary_frame())\n"
   ]
  },
  {
   "cell_type": "code",
   "execution_count": null,
   "metadata": {},
   "outputs": [],
   "source": []
  }
 ],
 "metadata": {
  "kernelspec": {
   "display_name": "Python 3",
   "language": "python",
   "name": "python3"
  },
  "language_info": {
   "codemirror_mode": {
    "name": "ipython",
    "version": 3
   },
   "file_extension": ".py",
   "mimetype": "text/x-python",
   "name": "python",
   "nbconvert_exporter": "python",
   "pygments_lexer": "ipython3",
   "version": "3.12.4"
  }
 },
 "nbformat": 4,
 "nbformat_minor": 2
}
