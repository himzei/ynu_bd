{
 "cells": [
  {
   "cell_type": "code",
   "execution_count": 5,
   "metadata": {},
   "outputs": [
    {
     "name": "stdout",
     "output_type": "stream",
     "text": [
      "   survived  pclass  sex   age\n",
      "0         0       0    1  22.0\n",
      "survived\n",
      "0    334\n",
      "1    207\n",
      "Name: count, dtype: int64\n",
      "pclass\n",
      "0    355\n",
      "1    186\n",
      "Name: count, dtype: int64\n"
     ]
    }
   ],
   "source": [
    "import pandas as pd \n",
    "survived = pd.read_csv(\"./예제/survived.csv\")\n",
    "\n",
    "print(survived.head(1))\n",
    "print(survived[\"survived\"].value_counts())\n",
    "print(survived['pclass'].value_counts())"
   ]
  },
  {
   "cell_type": "code",
   "execution_count": 7,
   "metadata": {},
   "outputs": [
    {
     "name": "stdout",
     "output_type": "stream",
     "text": [
      "   const  pclass\n",
      "0    1.0       0\n",
      "1    1.0       1\n",
      "                 Generalized Linear Model Regression Results                  \n",
      "==============================================================================\n",
      "Dep. Variable:               survived   No. Observations:                  541\n",
      "Model:                            GLM   Df Residuals:                      539\n",
      "Model Family:                Binomial   Df Model:                            1\n",
      "Link Function:                  Logit   Scale:                          1.0000\n",
      "Method:                          IRLS   Log-Likelihood:                -315.13\n",
      "Date:                Wed, 02 Oct 2024   Deviance:                       630.26\n",
      "Time:                        18:45:29   Pearson chi2:                     541.\n",
      "No. Iterations:                     4   Pseudo R-squ. (CS):             0.1527\n",
      "Covariance Type:            nonrobust                                         \n",
      "==============================================================================\n",
      "                 coef    std err          z      P>|z|      [0.025      0.975]\n",
      "------------------------------------------------------------------------------\n",
      "const         -1.1558      0.124     -9.293      0.000      -1.400      -0.912\n",
      "pclass         1.8009      0.198      9.086      0.000       1.412       2.189\n",
      "==============================================================================\n"
     ]
    }
   ],
   "source": [
    "X = survived['pclass']\n",
    "y = survived[\"survived\"]\n",
    "\n",
    "import statsmodels.api as sm \n",
    "\n",
    "X = sm.add_constant(X)\n",
    "\n",
    "print(X.head(2))\n",
    "\n",
    "model = sm.GLM(y, X, family = sm.families.Binomial()).fit()\n",
    "print(model.summary())\n"
   ]
  },
  {
   "cell_type": "code",
   "execution_count": 9,
   "metadata": {},
   "outputs": [
    {
     "name": "stdout",
     "output_type": "stream",
     "text": [
      "0.6559054109099537 0.2394312844887346\n"
     ]
    }
   ],
   "source": [
    "\n",
    "import numpy as np \n",
    "\n",
    "# A등급의 생존확률 \n",
    "Prob_A  = np.exp(-1.1558 + 1.8009 * 1) / (1 + np.exp(-1.1558 + 1.8009 * 1))\n",
    "\n",
    "# B등급의 생존확률 \n",
    "Prob_B  = np.exp(-1.1558 + 1.8009 * 0) / (1 + np.exp(-1.1558 + 1.8009 * 0))\n",
    "\n",
    "print(Prob_A, Prob_B)\n"
   ]
  },
  {
   "cell_type": "code",
   "execution_count": 15,
   "metadata": {},
   "outputs": [
    {
     "name": "stdout",
     "output_type": "stream",
     "text": [
      "630.2646521014274\n",
      "719.8918959915944\n",
      "89.62724389016705\n",
      "1\n",
      "0.0\n"
     ]
    }
   ],
   "source": [
    "# 적합모형의 이탈도 \n",
    "dev = model.deviance\n",
    "print(dev)\n",
    "\n",
    "# 영모형의 이탈도\n",
    "dev0 = model.null_deviance\n",
    "print(dev0)\n",
    "\n",
    "# 카이제곱 통계량과 자유도 \n",
    "stat = dev0 - dev\n",
    "print(stat)\n",
    "\n",
    "df = 2 - 1\n",
    "print(df)\n",
    "\n",
    "from scipy.stats import chi2\n",
    "\n",
    "pval = 1 - chi2.cdf(stat, df)\n",
    "print(pval)"
   ]
  },
  {
   "cell_type": "code",
   "execution_count": null,
   "metadata": {},
   "outputs": [],
   "source": []
  }
 ],
 "metadata": {
  "kernelspec": {
   "display_name": "Python 3",
   "language": "python",
   "name": "python3"
  },
  "language_info": {
   "codemirror_mode": {
    "name": "ipython",
    "version": 3
   },
   "file_extension": ".py",
   "mimetype": "text/x-python",
   "name": "python",
   "nbconvert_exporter": "python",
   "pygments_lexer": "ipython3",
   "version": "3.12.4"
  }
 },
 "nbformat": 4,
 "nbformat_minor": 2
}
