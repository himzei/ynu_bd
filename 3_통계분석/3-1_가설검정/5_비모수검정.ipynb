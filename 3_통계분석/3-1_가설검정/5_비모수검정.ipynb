{
 "cells": [
  {
   "cell_type": "code",
   "execution_count": 9,
   "metadata": {},
   "outputs": [
    {
     "data": {
      "text/plain": [
       "SignificanceResult(statistic=np.float64(0.09807947297621517), pvalue=np.float64(0.03929011358104615))"
      ]
     },
     "execution_count": 9,
     "metadata": {},
     "output_type": "execute_result"
    }
   ],
   "source": [
    "import pandas as pd\n",
    "from scipy.stats import spearmanr\n",
    "from sklearn.datasets import load_diabetes\n",
    "\n",
    "diabetes = load_diabetes()\n",
    "# diabetes.feature_names\n",
    "data = pd.DataFrame(diabetes.data, columns=diabetes.feature_names)\n",
    "# data.head()\n",
    "\n",
    "# stat, pvalue = spearmanr(data[\"sex\"], data[\"bmi\"])\n",
    "# print(stat)\n",
    "# print(pvalue)\n",
    "\n",
    "spearmanr(data[\"sex\"], data[\"bmi\"])"
   ]
  },
  {
   "cell_type": "code",
   "execution_count": 14,
   "metadata": {},
   "outputs": [
    {
     "data": {
      "text/html": [
       "<div>\n",
       "<style scoped>\n",
       "    .dataframe tbody tr th:only-of-type {\n",
       "        vertical-align: middle;\n",
       "    }\n",
       "\n",
       "    .dataframe tbody tr th {\n",
       "        vertical-align: top;\n",
       "    }\n",
       "\n",
       "    .dataframe thead th {\n",
       "        text-align: right;\n",
       "    }\n",
       "</style>\n",
       "<table border=\"1\" class=\"dataframe\">\n",
       "  <thead>\n",
       "    <tr style=\"text-align: right;\">\n",
       "      <th></th>\n",
       "      <th>sex</th>\n",
       "      <th>bmi</th>\n",
       "    </tr>\n",
       "  </thead>\n",
       "  <tbody>\n",
       "    <tr>\n",
       "      <th>sex</th>\n",
       "      <td>1.000000</td>\n",
       "      <td>0.098079</td>\n",
       "    </tr>\n",
       "    <tr>\n",
       "      <th>bmi</th>\n",
       "      <td>0.098079</td>\n",
       "      <td>1.000000</td>\n",
       "    </tr>\n",
       "  </tbody>\n",
       "</table>\n",
       "</div>"
      ],
      "text/plain": [
       "          sex       bmi\n",
       "sex  1.000000  0.098079\n",
       "bmi  0.098079  1.000000"
      ]
     },
     "execution_count": 14,
     "metadata": {},
     "output_type": "execute_result"
    }
   ],
   "source": [
    "data[[\"sex\", \"bmi\"]].corr(method=\"spearman\")"
   ]
  },
  {
   "cell_type": "code",
   "execution_count": 19,
   "metadata": {},
   "outputs": [
    {
     "data": {
      "text/plain": [
       "SignificanceResult(statistic=np.float64(0.8666666666666666), pvalue=np.float64(0.016666666666666666))"
      ]
     },
     "execution_count": 19,
     "metadata": {},
     "output_type": "execute_result"
    }
   ],
   "source": [
    "# 켄달의 타우 검정 \n",
    "\n",
    "import numpy as np \n",
    "\n",
    "x = np.array([5, 4, 3, 6, 1, 2])\n",
    "y = np.array([5, 4, 3, 6, 2, 1])\n",
    "\n",
    "from scipy.stats import kendalltau\n",
    "kendalltau(x, y)"
   ]
  },
  {
   "cell_type": "markdown",
   "metadata": {},
   "source": [
    "* 1학생 : 수-85, 영-82\n",
    "* 2학생 : 수-90, 영-88\n",
    "* 3학생 : 수-78, 영-72\n",
    "* 4학생 : 수-92, 영-94\n",
    "* 5학생 : 수-88, 영-85"
   ]
  },
  {
   "cell_type": "code",
   "execution_count": 20,
   "metadata": {},
   "outputs": [
    {
     "data": {
      "text/plain": [
       "SignificanceResult(statistic=np.float64(0.9999999999999999), pvalue=np.float64(0.016666666666666666))"
      ]
     },
     "execution_count": 20,
     "metadata": {},
     "output_type": "execute_result"
    }
   ],
   "source": [
    "mat = [85, 90, 78, 92, 88]\n",
    "eng = [82, 88, 72, 94, 85]\n",
    "\n",
    "from scipy.stats import kendalltau\n",
    "kendalltau(mat, eng)"
   ]
  },
  {
   "cell_type": "code",
   "execution_count": 26,
   "metadata": {},
   "outputs": [
    {
     "data": {
      "text/plain": [
       "WilcoxonResult(statistic=np.float64(0.0), pvalue=np.float64(0.0001220703125))"
      ]
     },
     "execution_count": 26,
     "metadata": {},
     "output_type": "execute_result"
    }
   ],
   "source": [
    "# 윌콕슨의 부호순위 검정 \n",
    "\n",
    "import numpy as np \n",
    "from scipy.stats import wilcoxon\n",
    "\n",
    "kg = np.array([75.5, 83.9, 75.7, 56.2, 73.4, 67.7, 79.0, 50.7, 58.4, 74.1, 65.1, 77.8, 48.1, 46.3])\n",
    "# kg.shape\n",
    "\n",
    "wilcoxon(kg)\n",
    "\n",
    "# print(wilcoxon(kg - 70))\n",
    "# wilcoxon([  5.5,  13.9,   5.7, -13.8,   3.4,  -2.3,   9. , -19.3, -11.6,\n",
    "#          4.1,  -4.9,   7.8, -21.9, -23.7])\n",
    "\n",
    "# H0 kg의 중앙값은 70과 차이가 없다 \n",
    "\n",
    "# pvalue=np.float64(0.5416259765625)"
   ]
  },
  {
   "cell_type": "code",
   "execution_count": 46,
   "metadata": {},
   "outputs": [
    {
     "data": {
      "text/plain": [
       "WilcoxonResult(statistic=np.float64(5.0), pvalue=np.float64(0.15625))"
      ]
     },
     "execution_count": 46,
     "metadata": {},
     "output_type": "execute_result"
    }
   ],
   "source": [
    "female = np.array([50.7, 58.4, 74.1, 65.1, 77.0, 40.1, 46.3])\n",
    "male = np.array([75.5, 83.9, 75.7, 56.2, 73.4, 67.7, 79.0])\n",
    "\n",
    "diff = female - male \n",
    "\n",
    "\n",
    "wilcoxon(diff)"
   ]
  },
  {
   "cell_type": "code",
   "execution_count": 48,
   "metadata": {},
   "outputs": [
    {
     "data": {
      "text/plain": [
       "WilcoxonResult(statistic=np.float64(5.0), pvalue=np.float64(0.15625))"
      ]
     },
     "execution_count": 48,
     "metadata": {},
     "output_type": "execute_result"
    }
   ],
   "source": [
    "female = np.array([50.7, 58.4, 74.1, 65.1, 77.0, 40.1, 46.3])\n",
    "male = np.array([75.5, 83.9, 75.7, 56.2, 73.4, 67.7, 79.0])\n",
    "\n",
    "wilcoxon(female, male, alternative=\"two-sided\")"
   ]
  },
  {
   "cell_type": "code",
   "execution_count": 56,
   "metadata": {},
   "outputs": [
    {
     "data": {
      "text/plain": [
       "WilcoxonResult(statistic=np.float64(5.0), pvalue=np.float64(0.078125))"
      ]
     },
     "execution_count": 56,
     "metadata": {},
     "output_type": "execute_result"
    }
   ],
   "source": [
    "female = np.array([50.7, 58.4, 74.1, 65.1, 77.0, 40.1, 46.3])\n",
    "male = np.array([75.5, 83.9, 75.7, 56.2, 73.4, 67.7, 79.0])\n",
    "\n",
    "wilcoxon(female, male, alternative=\"less\")\n",
    "\n",
    "\n",
    "# H0 : 두그룹간의 중앙값 차이는 없다 또는 여성이 크다 \n",
    "# H1:  여성의 중앙값이 남성의 중앙값보다 작다"
   ]
  },
  {
   "cell_type": "code",
   "execution_count": 57,
   "metadata": {},
   "outputs": [
    {
     "data": {
      "text/plain": [
       "RanksumsResult(statistic=np.float64(-1.8527420384998257), pvalue=np.float64(0.06391934147515746))"
      ]
     },
     "execution_count": 57,
     "metadata": {},
     "output_type": "execute_result"
    }
   ],
   "source": [
    "# 윌콕슨의 순위합 검정 \n",
    "from scipy.stats import ranksums\n",
    "\n",
    "ranksums(female, male)"
   ]
  },
  {
   "cell_type": "code",
   "execution_count": 62,
   "metadata": {},
   "outputs": [
    {
     "data": {
      "text/plain": [
       "MannwhitneyuResult(statistic=np.float64(10.0), pvalue=np.float64(0.07284382284382285))"
      ]
     },
     "execution_count": 62,
     "metadata": {},
     "output_type": "execute_result"
    }
   ],
   "source": [
    "# 만-위트니 U 검정 \n",
    "female = np.array([50.7, 58.4, 74.1, 65.1, 77.0, 40.1, 46.3])\n",
    "male = np.array([75.5, 83.9, 75.7, 56.2, 73.4, 67.7, 79.0])\n",
    "\n",
    "from scipy.stats import mannwhitneyu \n",
    "\n",
    "mannwhitneyu(female, male)"
   ]
  },
  {
   "cell_type": "code",
   "execution_count": 75,
   "metadata": {},
   "outputs": [
    {
     "data": {
      "text/plain": [
       "KruskalResult(statistic=np.float64(1978.1734792103248), pvalue=np.float64(0.0))"
      ]
     },
     "execution_count": 75,
     "metadata": {},
     "output_type": "execute_result"
    }
   ],
   "source": [
    "# 크루스칼-윌리스 H 검정 \n",
    "\n",
    "import pandas as pd \n",
    "\n",
    "df = pd.read_csv(\"./예제/school_score.csv\")\n",
    "# display(df.head())\n",
    "\n",
    "School = df[\"School\"]\n",
    "# School.value_counts()\n",
    "Final = df[\"Final\"]\n",
    "\n",
    "\n",
    "Final_A = Final[School == \"A\"].reset_index(drop=True)\n",
    "Final_B = Final[School == \"B\"].reset_index(drop=True)\n",
    "Final_C = Final[School == \"C\"].reset_index(drop=True)\n",
    "\n",
    "from scipy.stats import kruskal\n",
    "\n",
    "kruskal(Final_A, Final_B, Final_C)\n"
   ]
  },
  {
   "cell_type": "code",
   "execution_count": null,
   "metadata": {},
   "outputs": [],
   "source": []
  }
 ],
 "metadata": {
  "kernelspec": {
   "display_name": "Python 3",
   "language": "python",
   "name": "python3"
  },
  "language_info": {
   "codemirror_mode": {
    "name": "ipython",
    "version": 3
   },
   "file_extension": ".py",
   "mimetype": "text/x-python",
   "name": "python",
   "nbconvert_exporter": "python",
   "pygments_lexer": "ipython3",
   "version": "3.12.4"
  }
 },
 "nbformat": 4,
 "nbformat_minor": 2
}
