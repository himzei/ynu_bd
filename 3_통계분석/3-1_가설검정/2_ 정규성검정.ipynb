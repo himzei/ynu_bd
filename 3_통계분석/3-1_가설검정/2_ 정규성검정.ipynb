{
 "cells": [
  {
   "cell_type": "code",
   "execution_count": 1,
   "metadata": {},
   "outputs": [
    {
     "name": "stdout",
     "output_type": "stream",
     "text": [
      "[0.58801452 0.69910875 0.18815196 0.04380856 0.20501895 0.10606287\n",
      " 0.72724014 0.67940052 0.4738457  0.44829582]\n"
     ]
    },
    {
     "data": {
      "text/plain": [
       "ShapiroResult(statistic=np.float64(0.8969662710477171), pvalue=np.float64(0.20285343366469372))"
      ]
     },
     "execution_count": 1,
     "metadata": {},
     "output_type": "execute_result"
    }
   ],
   "source": [
    "import numpy as np \n",
    "\n",
    "np.random.seed(2024)\n",
    "x = np.random.random(10)\n",
    "\n",
    "print(x)\n",
    "\n",
    "from scipy.stats import shapiro \n",
    "\n",
    "shapiro(x)\n",
    "\n",
    "# 귀무가설 : 데이터는 정규분포를 따른다. \n",
    "# 대립가설 : 데이터는 정규분포를 따르지 않는다 \n",
    "# pvalue 0.20285343366469372 이고 0.05 크기 때문에 귀무가설 채택합니다."
   ]
  },
  {
   "cell_type": "code",
   "execution_count": 2,
   "metadata": {},
   "outputs": [
    {
     "data": {
      "text/plain": [
       "ShapiroResult(statistic=np.float64(0.9149852943524813), pvalue=np.float64(0.186131961675358))"
      ]
     },
     "execution_count": 2,
     "metadata": {},
     "output_type": "execute_result"
    }
   ],
   "source": [
    "import numpy as np \n",
    "kg = np.array([75.5, 83.9, 75.7, 56.2, 73.4, 67.7, 79.0, 50.7, 58.4, 74.1, 65.1, 77.8, 48.1, 46.3])\n",
    "\n",
    "from scipy.stats import shapiro\n",
    "shapiro(kg)"
   ]
  },
  {
   "cell_type": "code",
   "execution_count": null,
   "metadata": {},
   "outputs": [],
   "source": []
  }
 ],
 "metadata": {
  "kernelspec": {
   "display_name": "Python 3",
   "language": "python",
   "name": "python3"
  },
  "language_info": {
   "codemirror_mode": {
    "name": "ipython",
    "version": 3
   },
   "file_extension": ".py",
   "mimetype": "text/x-python",
   "name": "python",
   "nbconvert_exporter": "python",
   "pygments_lexer": "ipython3",
   "version": "3.12.4"
  }
 },
 "nbformat": 4,
 "nbformat_minor": 2
}
