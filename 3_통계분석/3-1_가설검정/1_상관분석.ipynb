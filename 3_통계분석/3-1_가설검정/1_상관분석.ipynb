{
 "cells": [
  {
   "cell_type": "code",
   "execution_count": 5,
   "metadata": {},
   "outputs": [
    {
     "name": "stdout",
     "output_type": "stream",
     "text": [
      "<class 'pandas.core.frame.DataFrame'>\n",
      "RangeIndex: 442 entries, 0 to 441\n",
      "Data columns (total 10 columns):\n",
      " #   Column  Non-Null Count  Dtype  \n",
      "---  ------  --------------  -----  \n",
      " 0   age     442 non-null    float64\n",
      " 1   sex     442 non-null    float64\n",
      " 2   bmi     442 non-null    float64\n",
      " 3   bp      442 non-null    float64\n",
      " 4   s1      442 non-null    float64\n",
      " 5   s2      442 non-null    float64\n",
      " 6   s3      442 non-null    float64\n",
      " 7   s4      442 non-null    float64\n",
      " 8   s5      442 non-null    float64\n",
      " 9   s6      442 non-null    float64\n",
      "dtypes: float64(10)\n",
      "memory usage: 34.7 KB\n",
      "None\n"
     ]
    },
    {
     "data": {
      "text/plain": [
       "PearsonRResult(statistic=np.float64(0.18508466614655553), pvalue=np.float64(9.076791865417336e-05))"
      ]
     },
     "execution_count": 5,
     "metadata": {},
     "output_type": "execute_result"
    }
   ],
   "source": [
    "import pandas as pd \n",
    "from sklearn.datasets import load_diabetes\n",
    "\n",
    "diabetes = load_diabetes()\n",
    "\n",
    "data = pd.DataFrame(diabetes.data, columns=diabetes.feature_names) \n",
    "\n",
    "print(data.info())\n",
    "data.head()\n",
    "\n",
    "from scipy.stats import pearsonr\n",
    "\n",
    "pearsonr(data[\"age\"], data[\"bmi\"])\n",
    "\n",
    "# 귀무가설 : 나이와 bmi 아무런 상관관계가 없다 \n",
    "# 대립가설 : 나이와 bmi 관계가 있다. \n",
    "# pvalue 값이 0.0000907679 때문에 0.05의 유의확률 보다 훨씬 작기 때문에 \n",
    "# 귀무가설을 기각을 하고 대립가설을 채택을 하게 됩니다. \n"
   ]
  },
  {
   "cell_type": "code",
   "execution_count": 7,
   "metadata": {},
   "outputs": [
    {
     "name": "stdout",
     "output_type": "stream",
     "text": [
      "0.0000907679\n",
      "907679.1865417336\n"
     ]
    }
   ],
   "source": [
    "a = 9.076791865417336e-05\n",
    "b = 9.076791865417336e+05\n",
    "print(f\"{a:.10f}\")\n",
    "print(f\"{b:.10f}\")\n"
   ]
  },
  {
   "cell_type": "code",
   "execution_count": 8,
   "metadata": {},
   "outputs": [
    {
     "data": {
      "text/html": [
       "<div>\n",
       "<style scoped>\n",
       "    .dataframe tbody tr th:only-of-type {\n",
       "        vertical-align: middle;\n",
       "    }\n",
       "\n",
       "    .dataframe tbody tr th {\n",
       "        vertical-align: top;\n",
       "    }\n",
       "\n",
       "    .dataframe thead th {\n",
       "        text-align: right;\n",
       "    }\n",
       "</style>\n",
       "<table border=\"1\" class=\"dataframe\">\n",
       "  <thead>\n",
       "    <tr style=\"text-align: right;\">\n",
       "      <th></th>\n",
       "      <th>age</th>\n",
       "      <th>bmi</th>\n",
       "    </tr>\n",
       "  </thead>\n",
       "  <tbody>\n",
       "    <tr>\n",
       "      <th>age</th>\n",
       "      <td>1.000000</td>\n",
       "      <td>0.185085</td>\n",
       "    </tr>\n",
       "    <tr>\n",
       "      <th>bmi</th>\n",
       "      <td>0.185085</td>\n",
       "      <td>1.000000</td>\n",
       "    </tr>\n",
       "  </tbody>\n",
       "</table>\n",
       "</div>"
      ],
      "text/plain": [
       "          age       bmi\n",
       "age  1.000000  0.185085\n",
       "bmi  0.185085  1.000000"
      ]
     },
     "execution_count": 8,
     "metadata": {},
     "output_type": "execute_result"
    }
   ],
   "source": [
    "data[[\"age\", \"bmi\"]].corr()"
   ]
  },
  {
   "cell_type": "code",
   "execution_count": 10,
   "metadata": {},
   "outputs": [
    {
     "data": {
      "text/plain": [
       "PearsonRResult(statistic=np.float64(-0.9999999999999998), pvalue=np.float64(3.9718624100817265e-24))"
      ]
     },
     "execution_count": 10,
     "metadata": {},
     "output_type": "execute_result"
    }
   ],
   "source": [
    "obj = {\n",
    "    \"키\": [150, 160, 170, 180, 190], \n",
    "    \"몸무게\": [80, 70, 60, 50, 40]\n",
    "}\n",
    "\n",
    "df = pd.DataFrame(obj)\n",
    "\n",
    "from scipy.stats import pearsonr\n",
    "\n",
    "pearsonr(df[\"키\"], df[\"몸무게\"])\n",
    "\n",
    "# 귀무가설: 키와 몸무게 아무런 상관관계가 없다 \n",
    "# 대립가설: 키와 몸무게는 관계가 있다. \n",
    "\n",
    "# pvalue가 3.9718624100817265e-24 이고 0.05 작기 때문에 귀무가설을 기각을 하고 \n",
    "# 대립가설을 채택을 한다 "
   ]
  },
  {
   "cell_type": "code",
   "execution_count": 12,
   "metadata": {},
   "outputs": [
    {
     "name": "stdout",
     "output_type": "stream",
     "text": [
      "<class 'pandas.core.frame.DataFrame'>\n",
      "RangeIndex: 150 entries, 0 to 149\n",
      "Data columns (total 4 columns):\n",
      " #   Column             Non-Null Count  Dtype  \n",
      "---  ------             --------------  -----  \n",
      " 0   sepal length (cm)  150 non-null    float64\n",
      " 1   sepal width (cm)   150 non-null    float64\n",
      " 2   petal length (cm)  150 non-null    float64\n",
      " 3   petal width (cm)   150 non-null    float64\n",
      "dtypes: float64(4)\n",
      "memory usage: 4.8 KB\n"
     ]
    },
    {
     "data": {
      "text/plain": [
       "PearsonRResult(statistic=np.float64(0.8717537758865831), pvalue=np.float64(1.038667419449872e-47))"
      ]
     },
     "execution_count": 12,
     "metadata": {},
     "output_type": "execute_result"
    }
   ],
   "source": [
    "from sklearn.datasets import load_iris\n",
    "\n",
    "iris = load_iris()\n",
    "\n",
    "df = pd.DataFrame(iris.data, columns=iris.feature_names)\n",
    "\n",
    "df.info()\n",
    "\n",
    "from scipy.stats import pearsonr\n",
    "pearsonr(df[\"sepal length (cm)\"], df[\"petal length (cm)\"])"
   ]
  },
  {
   "cell_type": "code",
   "execution_count": null,
   "metadata": {},
   "outputs": [],
   "source": []
  }
 ],
 "metadata": {
  "kernelspec": {
   "display_name": "Python 3",
   "language": "python",
   "name": "python3"
  },
  "language_info": {
   "codemirror_mode": {
    "name": "ipython",
    "version": 3
   },
   "file_extension": ".py",
   "mimetype": "text/x-python",
   "name": "python",
   "nbconvert_exporter": "python",
   "pygments_lexer": "ipython3",
   "version": "3.12.4"
  }
 },
 "nbformat": 4,
 "nbformat_minor": 2
}
