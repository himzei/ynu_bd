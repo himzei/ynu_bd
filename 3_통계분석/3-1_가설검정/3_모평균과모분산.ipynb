{
 "cells": [
  {
   "cell_type": "code",
   "execution_count": 3,
   "metadata": {},
   "outputs": [
    {
     "name": "stdout",
     "output_type": "stream",
     "text": [
      "66.56428571428572\n",
      "TtestResult(statistic=np.float64(-1.0289933120202257), pvalue=np.float64(0.3222484823978743), df=np.int64(13))\n"
     ]
    }
   ],
   "source": [
    "# 가. 단일표본 t-검정\n",
    "\n",
    "import numpy as np \n",
    "kg = np.array([75.5, 83.9, 75.7, 56.2, 73.4, 67.7, 79.0, 50.7, 58.4, 74.1, 65.1, 77.8, 48.1, 46.3])\n",
    "\n",
    "print(np.mean(kg))\n",
    "\n",
    "from scipy.stats import ttest_1samp\n",
    "print(ttest_1samp(kg, 70))\n",
    "\n",
    "# 귀무가설: 샘플데이터는 70과 (거의)같다 \n",
    "# 대립가설: 샘플데이터는 70과 다르다 \n"
   ]
  },
  {
   "cell_type": "code",
   "execution_count": 4,
   "metadata": {},
   "outputs": [
    {
     "name": "stdout",
     "output_type": "stream",
     "text": [
      "TtestResult(statistic=np.float64(1.9659976169367743), pvalue=np.float64(0.07102585780287406), df=np.int64(13))\n"
     ]
    }
   ],
   "source": [
    "print(ttest_1samp(kg, 60))\n",
    "\n",
    "# 귀무가설: 샘플데이터는 60과 (거의)같다 \n",
    "# 대립가설: 샘플데이터는 60과 다르다 "
   ]
  },
  {
   "cell_type": "code",
   "execution_count": 5,
   "metadata": {},
   "outputs": [
    {
     "name": "stdout",
     "output_type": "stream",
     "text": [
      "TtestResult(statistic=np.float64(4.960988545893774), pvalue=np.float64(0.0002603167434841765), df=np.int64(13))\n"
     ]
    }
   ],
   "source": [
    "print(ttest_1samp(kg, 50))\n",
    "\n",
    "# 귀무가설: 샘플데이터의 평균는 50과 (거의)같다 \n",
    "# 대립가설: 샘플데이터의 평균는 50과 다르다 "
   ]
  },
  {
   "cell_type": "code",
   "execution_count": 6,
   "metadata": {},
   "outputs": [
    {
     "name": "stdout",
     "output_type": "stream",
     "text": [
      "TtestResult(statistic=np.float64(-1.0289933120202257), pvalue=np.float64(0.3222484823978743), df=np.int64(13))\n"
     ]
    }
   ],
   "source": [
    "print(ttest_1samp(kg, 70, alternative=\"two-sided\"))\n",
    "\n",
    "# 귀무가설: 샘플데이터는 70과 (거의)같다 \n",
    "# 대립가설: 샘플데이터는 70과 다르다 "
   ]
  },
  {
   "cell_type": "code",
   "execution_count": 4,
   "metadata": {},
   "outputs": [
    {
     "name": "stdout",
     "output_type": "stream",
     "text": [
      "TtestResult(statistic=np.float64(-1.0289933120202257), pvalue=np.float64(0.16112424119893715), df=np.int64(13))\n"
     ]
    }
   ],
   "source": [
    "print(ttest_1samp(kg, 70, alternative=\"less\"))\n",
    "\n",
    "# 귀무가설: 샘플데이터의 평균이 70보다 작거나 같다 \n",
    "# 대립가설: 샘플데이터의 평균이 70보다 크다"
   ]
  },
  {
   "cell_type": "code",
   "execution_count": 10,
   "metadata": {},
   "outputs": [
    {
     "name": "stdout",
     "output_type": "stream",
     "text": [
      "TtestResult(statistic=np.float64(-4.023984240977226), pvalue=np.float64(0.0007226744787938747), df=np.int64(13))\n"
     ]
    }
   ],
   "source": [
    "print(ttest_1samp(kg, 80, alternative=\"less\"))\n",
    "\n",
    "# 귀무가설: 샘플데이터의 평균이 80보다 크거나 같다 \n",
    "# 대립가설: 샘플데이터의 평균이 80보다 작다"
   ]
  },
  {
   "cell_type": "code",
   "execution_count": 5,
   "metadata": {},
   "outputs": [
    {
     "data": {
      "text/plain": [
       "TtestResult(statistic=np.float64(-2.078446933064972), pvalue=np.float64(0.08291274205610201), df=np.int64(6))"
      ]
     },
     "execution_count": 5,
     "metadata": {},
     "output_type": "execute_result"
    }
   ],
   "source": [
    "# 나. 대응표본 t-검정\n",
    "\n",
    "import numpy as np\n",
    "\n",
    "female = np.array([50.7, 58.4, 74.1, 65.1, 77.8, 48.1, 46.3])\n",
    "male = np.array([75.5, 83.9, 75.7, 56.2, 73.4, 67.7, 79.0])\n",
    "\n",
    "diff = female - male\n",
    "\n",
    "\n",
    "from scipy.stats import ttest_rel\n",
    "\n",
    "ttest_rel(female, male)\n",
    "\n",
    " # H0 : 여성과 남성의 몸무게의 평균은 차이가 없다. \n",
    " # H1 : 여성과 남성의 몸무게의 평균은 차이가 있다. \n"
   ]
  },
  {
   "cell_type": "code",
   "execution_count": 22,
   "metadata": {},
   "outputs": [
    {
     "name": "stdout",
     "output_type": "stream",
     "text": [
      "<class 'pandas.core.frame.DataFrame'>\n",
      "RangeIndex: 20 entries, 0 to 19\n",
      "Data columns (total 2 columns):\n",
      " #   Column  Non-Null Count  Dtype\n",
      "---  ------  --------------  -----\n",
      " 0   before  20 non-null     int64\n",
      " 1   after   20 non-null     int64\n",
      "dtypes: int64(2)\n",
      "memory usage: 452.0 bytes\n"
     ]
    },
    {
     "data": {
      "text/plain": [
       "TtestResult(statistic=np.float64(7.6950728157667845), pvalue=np.float64(2.970355445926918e-07), df=np.int64(19))"
      ]
     },
     "execution_count": 22,
     "metadata": {},
     "output_type": "execute_result"
    }
   ],
   "source": [
    "import pandas as pd \n",
    "df = pd.read_csv(\"./data/대응표본_sample.csv\")\n",
    "\n",
    "df.head()\n",
    "df.info()\n",
    "\n",
    "from scipy.stats import ttest_rel\n",
    "\n",
    "ttest_rel(df[\"before\"], df[\"after\"])\n",
    "\n",
    "# 귀무가설 : 두 그룹간의 평균의 차이가 없다 \n",
    "# 대립가설 : 두 그룹간의 평균의 차이가 있다. \n"
   ]
  },
  {
   "cell_type": "code",
   "execution_count": 6,
   "metadata": {},
   "outputs": [
    {
     "data": {
      "text/plain": [
       "TtestResult(statistic=np.float64(-2.078446933064972), pvalue=np.float64(0.041456371028051005), df=np.int64(6))"
      ]
     },
     "execution_count": 6,
     "metadata": {},
     "output_type": "execute_result"
    }
   ],
   "source": [
    "# 나. 대응표본 t-검정\n",
    "\n",
    "import numpy as np\n",
    "\n",
    "female = np.array([50.7, 58.4, 74.1, 65.1, 77.8, 48.1, 46.3])\n",
    "male = np.array([75.5, 83.9, 75.7, 56.2, 73.4, 67.7, 79.0])\n",
    "\n",
    "diff = female - male\n",
    "\n",
    "\n",
    "from scipy.stats import ttest_rel\n",
    "\n",
    "ttest_rel(female, male, alternative=\"less\")\n",
    "\n",
    " # H0 : 여성과 남성의 몸무게의 평균은 차이가 없거나 크다 \n",
    " # H1 : 여성 몸무게의 평균이 남성 몸무게의 평균보다 작다"
   ]
  },
  {
   "cell_type": "code",
   "execution_count": 7,
   "metadata": {},
   "outputs": [
    {
     "data": {
      "text/plain": [
       "TtestResult(statistic=np.float64(-2.078446933064972), pvalue=np.float64(0.958543628971949), df=np.int64(6))"
      ]
     },
     "execution_count": 7,
     "metadata": {},
     "output_type": "execute_result"
    }
   ],
   "source": [
    "# 나. 대응표본 t-검정\n",
    "\n",
    "import numpy as np\n",
    "\n",
    "female = np.array([50.7, 58.4, 74.1, 65.1, 77.8, 48.1, 46.3])\n",
    "male = np.array([75.5, 83.9, 75.7, 56.2, 73.4, 67.7, 79.0])\n",
    "\n",
    "diff = female - male\n",
    "\n",
    "\n",
    "from scipy.stats import ttest_rel\n",
    "\n",
    "ttest_rel(female, male, alternative=\"greater\")\n",
    "\n",
    " # H0 : 여성과 남성의 몸무게의 평균은 차이가 없거나 작다\n",
    " # H1 : 여성 몸무게의 평균이 남성 몸무게의 평균보다 크다"
   ]
  },
  {
   "cell_type": "code",
   "execution_count": 8,
   "metadata": {},
   "outputs": [
    {
     "data": {
      "text/plain": [
       "TtestResult(statistic=np.float64(2.078446933064972), pvalue=np.float64(0.041456371028051005), df=np.int64(6))"
      ]
     },
     "execution_count": 8,
     "metadata": {},
     "output_type": "execute_result"
    }
   ],
   "source": [
    "# 나. 대응표본 t-검정\n",
    "\n",
    "import numpy as np\n",
    "\n",
    "female = np.array([50.7, 58.4, 74.1, 65.1, 77.8, 48.1, 46.3])\n",
    "male = np.array([75.5, 83.9, 75.7, 56.2, 73.4, 67.7, 79.0])\n",
    "\n",
    "diff = female - male\n",
    "\n",
    "\n",
    "from scipy.stats import ttest_rel\n",
    "\n",
    "ttest_rel(male, female, alternative=\"greater\")\n",
    "\n",
    " # H0 : 남성과 여성의 몸무게의 평균은 차이가 없거나 작다\n",
    " # H1 : 남성 몸무게의 평균이 여성 몸무게의 평균보다 크다"
   ]
  },
  {
   "cell_type": "code",
   "execution_count": 23,
   "metadata": {},
   "outputs": [
    {
     "data": {
      "text/plain": [
       "TtestResult(statistic=np.float64(-2.2186641577772956), pvalue=np.float64(0.046550122110569664), df=np.float64(12.0))"
      ]
     },
     "execution_count": 23,
     "metadata": {},
     "output_type": "execute_result"
    }
   ],
   "source": [
    "# 다. 독립표본 t-검정\n",
    "\n",
    "from scipy.stats import ttest_ind \n",
    "\n",
    "ttest_ind(female, male)"
   ]
  },
  {
   "cell_type": "code",
   "execution_count": 9,
   "metadata": {},
   "outputs": [
    {
     "data": {
      "text/plain": [
       "TtestResult(statistic=np.float64(-2.2186641577772956), pvalue=np.float64(0.023275061055284832), df=np.float64(12.0))"
      ]
     },
     "execution_count": 9,
     "metadata": {},
     "output_type": "execute_result"
    }
   ],
   "source": [
    "# 다. 독립표본 t-검정\n",
    "\n",
    "from scipy.stats import ttest_ind \n",
    "\n",
    "ttest_ind(female, male, alternative=\"less\")\n",
    "\n",
    " # H0 : 여성 몸무게의 평균이 남성 몸무게의 평균보다 크거나 같다\n",
    " # H1 : 여성 몸무게의 평균이 남성 몸무게의 평균보다 작다"
   ]
  },
  {
   "cell_type": "code",
   "execution_count": 20,
   "metadata": {},
   "outputs": [
    {
     "name": "stdout",
     "output_type": "stream",
     "text": [
      "278.1033333333333\n",
      "1.5169272727272727\n"
     ]
    },
    {
     "data": {
      "text/plain": [
       "np.float64(0.041637780038918736)"
      ]
     },
     "execution_count": 20,
     "metadata": {},
     "output_type": "execute_result"
    }
   ],
   "source": [
    "# 모분산 검정 \n",
    "\n",
    "import numpy as np \n",
    "\n",
    "score = np.array([80.5, 60.2, 70, 87, 45, 91, 85])\n",
    "\n",
    "# 가설 분산\n",
    "var0 = 1100\n",
    "\n",
    "# 표본분산\n",
    "var = np.var(score, ddof = 1)\n",
    "print(var)\n",
    "\n",
    "# 검정통계량 \n",
    "stat = (len(score) - 1) * var / var0\n",
    "print(stat)\n",
    "\n",
    "from scipy.stats import chi2 \n",
    "chi2.cdf(stat, len(score)-1)\n",
    "\n",
    "\n",
    "# h0 = 모분산은 가설분산과 차이가 없거나 크다 \n",
    "# h1 = 모분산은 가설분산보다 작다 \n"
   ]
  },
  {
   "cell_type": "code",
   "execution_count": 22,
   "metadata": {},
   "outputs": [
    {
     "data": {
      "text/plain": [
       "np.float64(0.08327556007783747)"
      ]
     },
     "execution_count": 22,
     "metadata": {},
     "output_type": "execute_result"
    }
   ],
   "source": [
    "# 우측검점\n",
    "1 - chi2.cdf(stat, len(score)-1)\n",
    "\n",
    "# H0 모분산은 가설분산 보다 차이가 없거가 같다 \n",
    "# H1 모분산은 가설분산 보다 크다 \n",
    "\n",
    "# 양측검정\n",
    "2 * chi2.cdf(stat, len(score) -1)\n",
    "\n",
    "# H0 모분산은 가설분산과 차이가 없다 \n",
    "# H1 모분산은 가설분산과 차이가 있다. "
   ]
  },
  {
   "cell_type": "code",
   "execution_count": 17,
   "metadata": {},
   "outputs": [
    {
     "name": "stdout",
     "output_type": "stream",
     "text": [
      "2.0\n",
      "0.6666666666666666\n",
      "0.816496580927726\n",
      "1.5\n",
      "2.5\n",
      "2.0\n",
      "0.25\n",
      "0.25\n",
      "1.0\n",
      "0.5\n",
      "0.5\n",
      "1.0\n"
     ]
    }
   ],
   "source": [
    "모집단 = np.array([1, 2, 3])\n",
    "\n",
    "표본1 = np.array([1, 2])\n",
    "표본2 = np.array([2, 3])\n",
    "표본3 = np.array([1, 3])\n",
    "\n",
    "\n",
    "print(np.mean(모집단))\n",
    "print(np.var(모집단))\n",
    "print(np.std(모집단))\n",
    "\n",
    "print(np.mean(표본1))\n",
    "print(np.mean(표본2))\n",
    "print(np.mean(표본3))\n",
    "\n",
    "print(np.var(표본1))\n",
    "print(np.var(표본2))\n",
    "print(np.var(표본3))\n",
    "\n",
    "print(np.std(표본1))\n",
    "print(np.std(표본2))\n",
    "print(np.std(표본3))"
   ]
  },
  {
   "cell_type": "code",
   "execution_count": 27,
   "metadata": {},
   "outputs": [
    {
     "name": "stdout",
     "output_type": "stream",
     "text": [
      "212.66666666666669 1179.142857142857\n",
      "0.1803569986269284\n",
      "5 7\n",
      "0.03870101616350467\n"
     ]
    }
   ],
   "source": [
    "# 분산비 검정 \n",
    "\n",
    "a = np.array([70, 80, 75, 65, 100, 98])\n",
    "b = np.array([20, 100, 50, 94, 20, 80, 90, 30])\n",
    "\n",
    "var_a = np.var(a, ddof=1)\n",
    "var_b = np.var(b, ddof=1)\n",
    "\n",
    "print(var_a, var_b)\n",
    "\n",
    "stat = var_a / var_b\n",
    "print(stat)\n",
    "\n",
    "df1, df2 = len(a)-1, len(b)-1\n",
    "print(df1, df2 )\n",
    "\n",
    "from scipy.stats import f \n",
    "pval = f.cdf(stat, df1, df2)\n",
    "print(pval)"
   ]
  },
  {
   "cell_type": "code",
   "execution_count": 1,
   "metadata": {},
   "outputs": [
    {
     "data": {
      "text/plain": [
       "BartlettResult(statistic=np.float64(15.6702722148674), pvalue=np.float64(0.00039558846873743075))"
      ]
     },
     "execution_count": 1,
     "metadata": {},
     "output_type": "execute_result"
    }
   ],
   "source": [
    "# Bartlett 검정\n",
    "\n",
    "import numpy as np \n",
    "\n",
    "a = np.array([70, 80, 75, 65, 100, 98])\n",
    "b = np.array([20, 100, 50, 94, 28, 80])\n",
    "c = np.array([90, 97, 95, 94, 99, 100])\n",
    "\n",
    "from scipy.stats import bartlett\n",
    "\n",
    "bartlett(a, b, c)"
   ]
  },
  {
   "cell_type": "code",
   "execution_count": 2,
   "metadata": {},
   "outputs": [
    {
     "data": {
      "text/plain": [
       "LeveneResult(statistic=np.float64(14.365736704446384), pvalue=np.float64(0.0003271362104550012))"
      ]
     },
     "execution_count": 2,
     "metadata": {},
     "output_type": "execute_result"
    }
   ],
   "source": [
    "from scipy.stats import levene \n",
    "\n",
    "levene(a, b, c)"
   ]
  },
  {
   "cell_type": "code",
   "execution_count": 14,
   "metadata": {},
   "outputs": [
    {
     "name": "stdout",
     "output_type": "stream",
     "text": [
      "               df         sum_sq        mean_sq            F  PR(>F)\n",
      "C(School)     2.0  996939.237147  498469.618573  5722.221007     0.0\n",
      "Residual   2997.0  261072.308290      87.111214          NaN     NaN\n"
     ]
    }
   ],
   "source": [
    "# 분산분석\n",
    "# 일원배치 분산분석 \n",
    "\n",
    "import pandas as pd \n",
    "from statsmodels.formula.api import ols \n",
    "from statsmodels.stats.anova import anova_lm \n",
    "\n",
    "df = pd.read_csv(\"./예제/school_score.csv\")\n",
    "# print(df.head())\n",
    "\n",
    "formula = \"Final ~ C(School)\"\n",
    "one_way = ols(formula, data=df).fit()\n",
    "\n",
    "# print(one_way.summary())\n",
    "result = anova_lm(one_way)\n",
    "print(result)\n",
    "\n",
    "\n"
   ]
  },
  {
   "cell_type": "code",
   "execution_count": 16,
   "metadata": {},
   "outputs": [
    {
     "name": "stdout",
     "output_type": "stream",
     "text": [
      "Multiple Comparison of Means - Tukey HSD, FWER=0.05 \n",
      "====================================================\n",
      "group1 group2 meandiff p-adj   lower   upper  reject\n",
      "----------------------------------------------------\n",
      "     A      B  38.8464    0.0 37.8677 39.8251   True\n",
      "     A      C  38.4922    0.0 37.5135 39.4709   True\n",
      "     B      C  -0.3542 0.6728 -1.3329  0.6245  False\n",
      "----------------------------------------------------\n"
     ]
    }
   ],
   "source": [
    "# 사후검정 \n",
    "\n",
    "from statsmodels.stats.multicomp import pairwise_tukeyhsd\n",
    "\n",
    "tukey_result = pairwise_tukeyhsd(\n",
    "    endog=df[\"Final\"], \n",
    "    groups=df[\"School\"], \n",
    "    alpha=0.05\n",
    ")\n",
    "\n",
    "print(tukey_result)"
   ]
  },
  {
   "cell_type": "code",
   "execution_count": 19,
   "metadata": {},
   "outputs": [
    {
     "name": "stdout",
     "output_type": "stream",
     "text": [
      "                        df         sum_sq        mean_sq            F  \\\n",
      "C(School)              2.0  996939.237147  498469.618573  5721.620556   \n",
      "C(Grade)               2.0     324.472829     162.236415     1.862210   \n",
      "C(School):C(Grade)     4.0     170.851257      42.712814     0.490274   \n",
      "Residual            2991.0  260576.984204      87.120356          NaN   \n",
      "\n",
      "                      PR(>F)  \n",
      "C(School)           0.000000  \n",
      "C(Grade)            0.155509  \n",
      "C(School):C(Grade)  0.742912  \n",
      "Residual                 NaN  \n"
     ]
    }
   ],
   "source": [
    "# 이원배치분산 \n",
    "\n",
    "formula = \"Final ~ C(School) + C(Grade) + C(School):C(Grade)\"\n",
    "two_way = ols(formula, data=df).fit()\n",
    "# two_way.summary()\n",
    "\n",
    "result = anova_lm(two_way)\n",
    "print(result)"
   ]
  },
  {
   "cell_type": "code",
   "execution_count": 20,
   "metadata": {},
   "outputs": [
    {
     "name": "stdout",
     "output_type": "stream",
     "text": [
      "               df         sum_sq        mean_sq            F    PR(>F)\n",
      "C(School)     2.0  996939.237147  498469.618573  5725.518315  0.000000\n",
      "C(Grade)      2.0     324.472829     162.236415     1.863479  0.155312\n",
      "Residual   2995.0  260747.835461      87.061047          NaN       NaN\n"
     ]
    }
   ],
   "source": [
    "formula = \"Final ~ C(School) + C(Grade)\"\n",
    "\n",
    "two_way = ols(formula, data=df).fit()\n",
    "result = anova_lm(two_way)\n",
    "print(result)"
   ]
  },
  {
   "cell_type": "code",
   "execution_count": null,
   "metadata": {},
   "outputs": [],
   "source": []
  }
 ],
 "metadata": {
  "kernelspec": {
   "display_name": "Python 3",
   "language": "python",
   "name": "python3"
  },
  "language_info": {
   "codemirror_mode": {
    "name": "ipython",
    "version": 3
   },
   "file_extension": ".py",
   "mimetype": "text/x-python",
   "name": "python",
   "nbconvert_exporter": "python",
   "pygments_lexer": "ipython3",
   "version": "3.12.4"
  }
 },
 "nbformat": 4,
 "nbformat_minor": 2
}
