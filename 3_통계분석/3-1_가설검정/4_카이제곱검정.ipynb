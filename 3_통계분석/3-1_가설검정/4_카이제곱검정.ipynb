{
 "cells": [
  {
   "cell_type": "code",
   "execution_count": 8,
   "metadata": {},
   "outputs": [
    {
     "data": {
      "text/plain": [
       "Power_divergenceResult(statistic=np.float64(82.94), pvalue=np.float64(4.14849046718008e-17))"
      ]
     },
     "execution_count": 8,
     "metadata": {},
     "output_type": "execute_result"
    }
   ],
   "source": [
    "# 1. 적합성 검정 \n",
    "\n",
    "\n",
    "color = [\"Black\", \"Gold\", \"Purple\", \"Red\", \"White\"]\n",
    "counts = [423, 304, 274, 205, 294]\n",
    "expected = 300\n",
    "# expected = [300] * 5\n",
    "\n",
    "from scipy.stats import chisquare \n",
    "chisquare(f_obs = counts, f_exp = expected)"
   ]
  },
  {
   "cell_type": "code",
   "execution_count": 16,
   "metadata": {},
   "outputs": [
    {
     "data": {
      "text/plain": [
       "Power_divergenceResult(statistic=np.float64(1.4000000000000001), pvalue=np.float64(0.924313272801667))"
      ]
     },
     "execution_count": 16,
     "metadata": {},
     "output_type": "execute_result"
    }
   ],
   "source": [
    "# 주사위가 \n",
    "# 1:8, 2:12, 3:9, 4:12, 5:10, 6:9\n",
    "\n",
    "import numpy as np \n",
    "\n",
    "counts = [8, 12, 9, 12, 10, 9]\n",
    "expected = [10, 10, 10, 10, 10, 10]\n",
    "\n",
    "np.mean(counts)\n",
    "from scipy.stats import chisquare \n",
    "chisquare(f_obs=counts, f_exp=expected)"
   ]
  },
  {
   "cell_type": "code",
   "execution_count": 21,
   "metadata": {},
   "outputs": [
    {
     "name": "stdout",
     "output_type": "stream",
     "text": [
      "98.66917336693975\n",
      "2.98411357336002e-23\n",
      "1\n",
      "[[296.05263158 453.94736842]\n",
      " [453.94736842 696.05263158]]\n"
     ]
    }
   ],
   "source": [
    "# 동질성 검정/독립성 검정\n",
    "\n",
    "import pandas as pd \n",
    "from scipy.stats import chi2_contingency\n",
    "\n",
    "obj = {\n",
    "    \"Good\": [400, 350], \n",
    "    \"Bad\": [350, 800]\n",
    "}\n",
    "cross = pd.DataFrame(obj, index=[\"남성\", \"여성\"])\n",
    "\n",
    "chi, p, df, expected = chi2_contingency(cross)\n",
    "print(chi)\n",
    "print(p)\n",
    "print(df)\n",
    "print(expected)"
   ]
  },
  {
   "cell_type": "code",
   "execution_count": 25,
   "metadata": {},
   "outputs": [
    {
     "name": "stdout",
     "output_type": "stream",
     "text": [
      "7.018655847563798e-132\n"
     ]
    }
   ],
   "source": [
    "obj = {\n",
    "    \"Black\": [1620, 2300], \n",
    "    \"Gold\": [385, 615], \n",
    "    \"Purple\": [778, 1230], \n",
    "    \"Red\": [394, 610], \n",
    "    \"White\": [800, 180]\n",
    "}\n",
    "\n",
    "cross = pd.DataFrame(obj, index=[\"남성\", \"여성\"])\n",
    "\n",
    "from scipy.stats import chi2_contingency\n",
    "\n",
    "chi, p, df, expected = chi2_contingency(cross)\n",
    "\n",
    "print(p)"
   ]
  },
  {
   "cell_type": "code",
   "execution_count": 30,
   "metadata": {},
   "outputs": [
    {
     "name": "stdout",
     "output_type": "stream",
     "text": [
      "0.07470593331213067\n"
     ]
    }
   ],
   "source": [
    "#1. 영어점수가 합격 80, 불합격 20  수학점수가 합격인 사람이 90, 불합격 한사람이 10\n",
    "\n",
    "obj = {\n",
    "    \"합격\": [80, 90], \n",
    "    \"불합격\": [20, 10]\n",
    "}\n",
    "\n",
    "data = pd.DataFrame(obj, index=[\"영어\", \"수학\"])\n",
    "\n",
    "from scipy.stats import chi2_contingency\n",
    "a, b, c, d = chi2_contingency(data)\n",
    "\n",
    "print(b)\n",
    "\n"
   ]
  },
  {
   "cell_type": "code",
   "execution_count": 37,
   "metadata": {},
   "outputs": [
    {
     "name": "stdout",
     "output_type": "stream",
     "text": [
      "     과목   합불\n",
      "0    영어   합격\n",
      "1    영어   합격\n",
      "2    영어   합격\n",
      "3    영어   합격\n",
      "4    영어   합격\n",
      "..   ..  ...\n",
      "195  수학  불합격\n",
      "196  수학  불합격\n",
      "197  수학  불합격\n",
      "198  수학  불합격\n",
      "199  수학  불합격\n",
      "\n",
      "[200 rows x 2 columns]\n"
     ]
    },
    {
     "data": {
      "text/html": [
       "<div>\n",
       "<style scoped>\n",
       "    .dataframe tbody tr th:only-of-type {\n",
       "        vertical-align: middle;\n",
       "    }\n",
       "\n",
       "    .dataframe tbody tr th {\n",
       "        vertical-align: top;\n",
       "    }\n",
       "\n",
       "    .dataframe thead th {\n",
       "        text-align: right;\n",
       "    }\n",
       "</style>\n",
       "<table border=\"1\" class=\"dataframe\">\n",
       "  <thead>\n",
       "    <tr style=\"text-align: right;\">\n",
       "      <th>합불</th>\n",
       "      <th>불합격</th>\n",
       "      <th>합격</th>\n",
       "    </tr>\n",
       "    <tr>\n",
       "      <th>과목</th>\n",
       "      <th></th>\n",
       "      <th></th>\n",
       "    </tr>\n",
       "  </thead>\n",
       "  <tbody>\n",
       "    <tr>\n",
       "      <th>수학</th>\n",
       "      <td>10</td>\n",
       "      <td>90</td>\n",
       "    </tr>\n",
       "    <tr>\n",
       "      <th>영어</th>\n",
       "      <td>20</td>\n",
       "      <td>80</td>\n",
       "    </tr>\n",
       "  </tbody>\n",
       "</table>\n",
       "</div>"
      ],
      "text/plain": [
       "합불  불합격  합격\n",
       "과목         \n",
       "수학   10  90\n",
       "영어   20  80"
      ]
     },
     "metadata": {},
     "output_type": "display_data"
    },
    {
     "data": {
      "text/plain": [
       "np.float64(0.0747)"
      ]
     },
     "execution_count": 37,
     "metadata": {},
     "output_type": "execute_result"
    }
   ],
   "source": [
    "import pandas as pd\n",
    "\n",
    "obj = {\n",
    "    \"과목\": [\"영어\"] * 100 + [\"수학\"] * 100, \n",
    "    \"합불\": [\"합격\"] * 80 + [\"불합격\"] * 20 + [\"합격\"] * 90 + [\"불합격\"] * 10\n",
    "}\n",
    "\n",
    "data = pd.DataFrame(obj)\n",
    "print(data)\n",
    "\n",
    "cross = pd.crosstab(data[\"과목\"], data[\"합불\"])\n",
    "display(cross)\n",
    "\n",
    "from scipy.stats import chi2_contingency \n",
    "round(chi2_contingency(cross)[1], 4)"
   ]
  },
  {
   "cell_type": "code",
   "execution_count": null,
   "metadata": {},
   "outputs": [],
   "source": []
  }
 ],
 "metadata": {
  "kernelspec": {
   "display_name": "Python 3",
   "language": "python",
   "name": "python3"
  },
  "language_info": {
   "codemirror_mode": {
    "name": "ipython",
    "version": 3
   },
   "file_extension": ".py",
   "mimetype": "text/x-python",
   "name": "python",
   "nbconvert_exporter": "python",
   "pygments_lexer": "ipython3",
   "version": "3.12.4"
  }
 },
 "nbformat": 4,
 "nbformat_minor": 2
}
