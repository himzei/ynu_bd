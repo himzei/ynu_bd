{
 "cells": [
  {
   "cell_type": "code",
   "execution_count": 18,
   "metadata": {},
   "outputs": [
    {
     "name": "stdout",
     "output_type": "stream",
     "text": [
      "-4.68\n",
      "-3.67\n",
      "0.001\n",
      "기각\n"
     ]
    }
   ],
   "source": [
    "import pandas as pd \n",
    "exam1 = pd.read_csv(\"../data/연습문제/Rabbit_five.csv\")\n",
    "\n",
    "exam1[\"Treatment\"].value_counts()\n",
    "exam1\n",
    "\n",
    "bp_change = exam1[\"BP_change\"]\n",
    "treatment = exam1[\"Treatment\"]\n",
    "\n",
    "bp_change_contorl = bp_change[treatment == \"Control\"].reset_index(drop=True)\n",
    "bp_change_mdl = bp_change[treatment == \"MDL\"].reset_index(drop=True)\n",
    "\n",
    "avg = (bp_change_mdl - bp_change_contorl).mean()\n",
    "result1 = round(avg, 2)\n",
    "print(result1)\n",
    "\n",
    "# 2 \n",
    "\n",
    "from scipy.stats import ttest_rel\n",
    "\n",
    "a = ttest_rel(bp_change_mdl, bp_change_contorl)\n",
    "result2 = round(a.statistic, 2)\n",
    "print(result2)\n",
    "\n",
    "# 3 \n",
    "result3 = round(a.pvalue, 3)\n",
    "print(result3)\n",
    "\n",
    "print(\"기각\")"
   ]
  },
  {
   "cell_type": "code",
   "execution_count": 30,
   "metadata": {},
   "outputs": [],
   "source": [
    "import pandas as pd \n",
    "exam1 = pd.read_csv(\"../data/연습문제/Rabbit_five.csv\")\n",
    "\n",
    "bp_control = exam1[\"BP_change\"].iloc[:30].reset_index(drop=True)\n",
    "bp_mdl = exam1[\"BP_change\"].iloc[30:].reset_index(drop=True)\n"
   ]
  },
  {
   "cell_type": "code",
   "execution_count": 46,
   "metadata": {},
   "outputs": [
    {
     "name": "stdout",
     "output_type": "stream",
     "text": [
      "2.43\n",
      "2.43\n",
      "0.043\n",
      "기각\n"
     ]
    }
   ],
   "source": [
    "### 연습문제 2\n",
    "\n",
    "import pandas as pd \n",
    "exam2 = pd.read_csv(\"../data/연습문제/mtcars2.csv\")\n",
    "# print(exam2[\"am\"].value_counts())\n",
    "exam2.head(1)\n",
    "\n",
    "am = exam2[\"am\"]\n",
    "hp = exam2[\"hp\"]\n",
    "\n",
    "hp_manual = hp[am == 1].reset_index(drop=True) # 수동 변속기를 탑재한 자동차의 마력\n",
    "hp_auto = hp[am == 0].reset_index(drop=True) # 자동변속기\n",
    "\n",
    "hp_manual.var()\n",
    "# 7066.474358974358(수동 분산)\n",
    "hp_auto.var()\n",
    "# 2906.0935672514615(자동 분산)\n",
    "var_ratio = hp_manual.var() / hp_auto.var()\n",
    "result1 = round(var_ratio, 2)\n",
    "print(result1)\n",
    "\n",
    "# 2\n",
    "result2 = result1 \n",
    "print(result2)\n",
    "\n",
    "# 3 \n",
    "from scipy.stats import f \n",
    "\n",
    "df1 = len(hp_manual) - 1\n",
    "df2 = len(hp_auto) - 1\n",
    "\n",
    "pvalue = 1 - f.cdf(result2, df1, df2)\n",
    "result3 = round(pvalue, 3)\n",
    "print(result3)\n",
    "print(\"기각\")"
   ]
  },
  {
   "cell_type": "code",
   "execution_count": null,
   "metadata": {},
   "outputs": [],
   "source": []
  }
 ],
 "metadata": {
  "kernelspec": {
   "display_name": "Python 3",
   "language": "python",
   "name": "python3"
  },
  "language_info": {
   "codemirror_mode": {
    "name": "ipython",
    "version": 3
   },
   "file_extension": ".py",
   "mimetype": "text/x-python",
   "name": "python",
   "nbconvert_exporter": "python",
   "pygments_lexer": "ipython3",
   "version": "3.12.4"
  }
 },
 "nbformat": 4,
 "nbformat_minor": 2
}
