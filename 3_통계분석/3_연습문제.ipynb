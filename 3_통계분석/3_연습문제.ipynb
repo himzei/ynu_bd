{
 "cells": [
  {
   "cell_type": "code",
   "execution_count": 18,
   "metadata": {},
   "outputs": [
    {
     "name": "stdout",
     "output_type": "stream",
     "text": [
      "-4.68\n",
      "-3.67\n",
      "0.001\n",
      "기각\n"
     ]
    }
   ],
   "source": [
    "import pandas as pd \n",
    "exam1 = pd.read_csv(\"../data/연습문제/Rabbit_five.csv\")\n",
    "\n",
    "exam1[\"Treatment\"].value_counts()\n",
    "exam1\n",
    "\n",
    "bp_change = exam1[\"BP_change\"]\n",
    "treatment = exam1[\"Treatment\"]\n",
    "\n",
    "bp_change_contorl = bp_change[treatment == \"Control\"].reset_index(drop=True)\n",
    "bp_change_mdl = bp_change[treatment == \"MDL\"].reset_index(drop=True)\n",
    "\n",
    "avg = (bp_change_mdl - bp_change_contorl).mean()\n",
    "result1 = round(avg, 2)\n",
    "print(result1)\n",
    "\n",
    "# 2 \n",
    "\n",
    "from scipy.stats import ttest_rel\n",
    "\n",
    "a = ttest_rel(bp_change_mdl, bp_change_contorl)\n",
    "result2 = round(a.statistic, 2)\n",
    "print(result2)\n",
    "\n",
    "# 3 \n",
    "result3 = round(a.pvalue, 3)\n",
    "print(result3)\n",
    "\n",
    "print(\"기각\")"
   ]
  },
  {
   "cell_type": "code",
   "execution_count": 30,
   "metadata": {},
   "outputs": [],
   "source": [
    "import pandas as pd \n",
    "exam1 = pd.read_csv(\"../data/연습문제/Rabbit_five.csv\")\n",
    "\n",
    "bp_control = exam1[\"BP_change\"].iloc[:30].reset_index(drop=True)\n",
    "bp_mdl = exam1[\"BP_change\"].iloc[30:].reset_index(drop=True)\n"
   ]
  },
  {
   "cell_type": "code",
   "execution_count": 46,
   "metadata": {},
   "outputs": [
    {
     "name": "stdout",
     "output_type": "stream",
     "text": [
      "2.43\n",
      "2.43\n",
      "0.043\n",
      "기각\n"
     ]
    }
   ],
   "source": [
    "### 연습문제 2\n",
    "\n",
    "import pandas as pd \n",
    "exam2 = pd.read_csv(\"../data/연습문제/mtcars2.csv\")\n",
    "# print(exam2[\"am\"].value_counts())\n",
    "exam2.head(1)\n",
    "\n",
    "am = exam2[\"am\"]\n",
    "hp = exam2[\"hp\"]\n",
    "\n",
    "hp_manual = hp[am == 1].reset_index(drop=True) # 수동 변속기를 탑재한 자동차의 마력\n",
    "hp_auto = hp[am == 0].reset_index(drop=True) # 자동변속기\n",
    "\n",
    "hp_manual.var()\n",
    "# 7066.474358974358(수동 분산)\n",
    "hp_auto.var()\n",
    "# 2906.0935672514615(자동 분산)\n",
    "var_ratio = hp_manual.var() / hp_auto.var()\n",
    "result1 = round(var_ratio, 2)\n",
    "print(result1)\n",
    "\n",
    "# 2\n",
    "result2 = result1 \n",
    "print(result2)\n",
    "\n",
    "# 3 \n",
    "from scipy.stats import f \n",
    "\n",
    "df1 = len(hp_manual) - 1\n",
    "df2 = len(hp_auto) - 1\n",
    "\n",
    "pvalue = 1 - f.cdf(result2, df1, df2)\n",
    "result3 = round(pvalue, 3)\n",
    "print(result3)\n",
    "print(\"기각\")"
   ]
  },
  {
   "cell_type": "code",
   "execution_count": 72,
   "metadata": {},
   "outputs": [
    {
     "data": {
      "text/html": [
       "<div>\n",
       "<style scoped>\n",
       "    .dataframe tbody tr th:only-of-type {\n",
       "        vertical-align: middle;\n",
       "    }\n",
       "\n",
       "    .dataframe tbody tr th {\n",
       "        vertical-align: top;\n",
       "    }\n",
       "\n",
       "    .dataframe thead th {\n",
       "        text-align: right;\n",
       "    }\n",
       "</style>\n",
       "<table border=\"1\" class=\"dataframe\">\n",
       "  <thead>\n",
       "    <tr style=\"text-align: right;\">\n",
       "      <th>Region</th>\n",
       "      <th>Central</th>\n",
       "      <th>East</th>\n",
       "      <th>South</th>\n",
       "      <th>West</th>\n",
       "    </tr>\n",
       "    <tr>\n",
       "      <th>Segment</th>\n",
       "      <th></th>\n",
       "      <th></th>\n",
       "      <th></th>\n",
       "      <th></th>\n",
       "    </tr>\n",
       "  </thead>\n",
       "  <tbody>\n",
       "    <tr>\n",
       "      <th>Consumer</th>\n",
       "      <td>41</td>\n",
       "      <td>53</td>\n",
       "      <td>27</td>\n",
       "      <td>65</td>\n",
       "    </tr>\n",
       "    <tr>\n",
       "      <th>Corporate</th>\n",
       "      <td>29</td>\n",
       "      <td>31</td>\n",
       "      <td>19</td>\n",
       "      <td>29</td>\n",
       "    </tr>\n",
       "    <tr>\n",
       "      <th>Home Office</th>\n",
       "      <td>18</td>\n",
       "      <td>22</td>\n",
       "      <td>5</td>\n",
       "      <td>11</td>\n",
       "    </tr>\n",
       "  </tbody>\n",
       "</table>\n",
       "</div>"
      ],
      "text/plain": [
       "Region       Central  East  South  West\n",
       "Segment                                \n",
       "Consumer          41    53     27    65\n",
       "Corporate         29    31     19    29\n",
       "Home Office       18    22      5    11"
      ]
     },
     "metadata": {},
     "output_type": "display_data"
    },
    {
     "name": "stdout",
     "output_type": "stream",
     "text": [
      "15.74\n",
      "9\n",
      "0.148\n"
     ]
    }
   ],
   "source": [
    "### 연습문제 3\n",
    "\n",
    "import pandas as pd \n",
    "exam3 = pd.read_csv(\"../data/연습문제/고객_등급리스트.csv\")\n",
    "# print(exam3.head())\n",
    "\n",
    "# print(exam3[\"Segment\"].value_counts())\n",
    "# print(exam3[\"Region\"].value_counts())\n",
    "\n",
    "cross = pd.crosstab(exam3[\"Segment\"], exam3[\"Region\"])\n",
    "display(cross)\n",
    "\n",
    "from scipy.stats import chi2_contingency\n",
    "\n",
    "stats, pvalue, dof, expected = chi2_contingency(cross)\n",
    "\n",
    "# 1\n",
    "result1 = round(expected[1, 2], 2)\n",
    "print(result1)\n",
    "\n",
    "# 2. \n",
    "result2 = int(stats)\n",
    "print(result2)\n",
    "\n",
    "# 3. \n",
    "result3 = round(pvalue, 3)\n",
    "print(result3)\n",
    "print(\"채택\")\n"
   ]
  },
  {
   "cell_type": "code",
   "execution_count": null,
   "metadata": {},
   "outputs": [],
   "source": []
  }
 ],
 "metadata": {
  "kernelspec": {
   "display_name": "Python 3",
   "language": "python",
   "name": "python3"
  },
  "language_info": {
   "codemirror_mode": {
    "name": "ipython",
    "version": 3
   },
   "file_extension": ".py",
   "mimetype": "text/x-python",
   "name": "python",
   "nbconvert_exporter": "python",
   "pygments_lexer": "ipython3",
   "version": "3.12.4"
  }
 },
 "nbformat": 4,
 "nbformat_minor": 2
}
