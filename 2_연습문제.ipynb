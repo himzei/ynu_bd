{
 "cells": [
  {
   "cell_type": "code",
   "execution_count": 12,
   "metadata": {},
   "outputs": [
    {
     "name": "stdout",
     "output_type": "stream",
     "text": [
      "0.4845\n"
     ]
    }
   ],
   "source": [
    "import pandas as pd \n",
    "exam1 = pd.read_csv(\"data/연습문제/Cars93.csv\")\n",
    "\n",
    "\n",
    "# exam1.info()\n",
    "wheelbase_avg = exam1[\"Wheelbase\"].mean()\n",
    "wheelbase_sd = exam1[\"Wheelbase\"].std()\n",
    "\n",
    "def custom_std(num):\n",
    "    low_1 = wheelbase_avg - num * wheelbase_sd\n",
    "    upp_1 = wheelbase_avg + num * wheelbase_sd\n",
    "    cond = (exam1[\"Wheelbase\"] > low_1) & (exam1[\"Wheelbase\"] < upp_1)\n",
    "    avg_1 = exam1[\"Wheelbase\"][cond].mean()\n",
    "    return exam1[\"Wheelbase\"].mean() - avg_1\n",
    "\n",
    "case1 = custom_std(1.5)\n",
    "case2 = custom_std(2)\n",
    "case3 = custom_std(2.5)\n",
    "\n",
    "result = round(case1 + case2 + case3, 4)\n",
    "print(result)"
   ]
  },
  {
   "cell_type": "code",
   "execution_count": 20,
   "metadata": {},
   "outputs": [
    {
     "name": "stdout",
     "output_type": "stream",
     "text": [
      "8.884\n"
     ]
    }
   ],
   "source": [
    "# 연습문제 2 \n",
    "\n",
    "import pandas as pd \n",
    "exam2 = pd.read_csv(\"data/연습문제/Cars93.csv\")\n",
    "\n",
    "rank = exam2[\"Length\"].rank()\n",
    "\n",
    "sub = exam2[\"Length\"][rank <= 30]\n",
    "\n",
    "sub_sd = sub.std()\n",
    "\n",
    "result = round(sub_sd, 3)\n",
    "\n",
    "print(result )\n"
   ]
  },
  {
   "cell_type": "code",
   "execution_count": 8,
   "metadata": {},
   "outputs": [
    {
     "name": "stdout",
     "output_type": "stream",
     "text": [
      "18.584\n"
     ]
    }
   ],
   "source": [
    "# 연습문제3\n",
    "\n",
    "import pandas as pd \n",
    "exam3 = pd.read_csv(\"data/연습문제/Cars93.csv\") \n",
    "\n",
    "max_price_sort = exam3[\"Max_Price\"].sort_values(ascending=False, ignore_index=True)\n",
    "min_price_sort = exam3[\"Min_Price\"].sort_values(ascending=True, ignore_index=True)\n",
    "\n",
    "diff = max_price_sort - min_price_sort\n",
    "result = round(diff.std(), 3) \n",
    "print(result)\n",
    "\n",
    "# print(max_price_sort)\n",
    "# print(min_price_sort)\n",
    "\n"
   ]
  },
  {
   "cell_type": "code",
   "execution_count": 14,
   "metadata": {},
   "outputs": [
    {
     "data": {
      "text/plain": [
       "np.float64(0.001)"
      ]
     },
     "execution_count": 14,
     "metadata": {},
     "output_type": "execute_result"
    }
   ],
   "source": [
    "# 연습문제 4 \n",
    "\n",
    "import pandas as pd \n",
    "exam4 = pd.read_csv(\"data/연습문제/Cars93.csv\") \n",
    "\n",
    "weight = exam4[\"Weight\"]\n",
    "weight_std = (weight - min(weight)) / (max(weight) - min(weight))\n",
    "\n",
    "var_under = weight_std[weight_std < 0.5].var()\n",
    "var_upper = weight_std[weight_std > 0.5].var()\n",
    "\n",
    "# print(var_under)\n",
    "# print(var_upper)\n",
    "\n",
    "diff = var_under - var_upper\n",
    "result = round(diff, 3)\n",
    "\n",
    "result \n"
   ]
  },
  {
   "cell_type": "code",
   "execution_count": 20,
   "metadata": {},
   "outputs": [
    {
     "name": "stdout",
     "output_type": "stream",
     "text": [
      "Weight    0.001\n",
      "dtype: float64\n"
     ]
    }
   ],
   "source": [
    "import pandas as pd \n",
    "exam4 = pd.read_csv(\"data/연습문제/Cars93.csv\") \n",
    "\n",
    "weight = exam4[[\"Weight\"]]\n",
    "\n",
    "from sklearn.preprocessing import MinMaxScaler \n",
    "\n",
    "mm_scale = MinMaxScaler()\n",
    "data = mm_scale.fit_transform(weight)\n",
    "weight_std = pd.DataFrame(data, columns=[\"Weight\"])\n",
    "\n",
    "var_under = weight_std[weight_std < 0.5].var()\n",
    "var_upper = weight_std[weight_std > 0.5].var()\n",
    "\n",
    "diff = abs(var_under - var_upper)\n",
    "\n",
    "result = round(diff, 3)\n",
    "print(result)\n"
   ]
  },
  {
   "cell_type": "code",
   "execution_count": 42,
   "metadata": {},
   "outputs": [
    {
     "name": "stdout",
     "output_type": "stream",
     "text": [
      "4\n"
     ]
    }
   ],
   "source": [
    "import pandas as pd \n",
    "exam5 = pd.read_csv(\"data/연습문제/Cars93.csv\") \n",
    "\n",
    "# exam5[\"Manufacturer\"].head()\n",
    "# exam5[\"Origin\"].head()\n",
    "\n",
    "# 1\n",
    "# exam5[[\"Manufacturer\", \"Origin\"]].shape\n",
    "\n",
    "uniq_raw = exam5[[\"Manufacturer\", \"Origin\"]].drop_duplicates()\n",
    "result1 = uniq_raw.shape[0]\n",
    "\n",
    "\n",
    "# 2\n",
    "exam5[\"sub_str\"] = exam5[\"Manufacturer\"].str[:2]\n",
    "uniq_new = exam5[[\"sub_str\", \"Origin\"]].drop_duplicates()\n",
    "result2 = uniq_new.shape[0]\n",
    "\n",
    "result = result1 - result2 \n",
    "print(result)\n",
    "\n",
    "\n"
   ]
  },
  {
   "cell_type": "code",
   "execution_count": null,
   "metadata": {},
   "outputs": [],
   "source": []
  }
 ],
 "metadata": {
  "kernelspec": {
   "display_name": "Python 3",
   "language": "python",
   "name": "python3"
  },
  "language_info": {
   "codemirror_mode": {
    "name": "ipython",
    "version": 3
   },
   "file_extension": ".py",
   "mimetype": "text/x-python",
   "name": "python",
   "nbconvert_exporter": "python",
   "pygments_lexer": "ipython3",
   "version": "3.12.4"
  }
 },
 "nbformat": 4,
 "nbformat_minor": 2
}
