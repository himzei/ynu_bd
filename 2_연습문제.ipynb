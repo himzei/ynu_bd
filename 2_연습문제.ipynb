{
 "cells": [
  {
   "cell_type": "code",
   "execution_count": null,
   "metadata": {},
   "outputs": [],
   "source": [
    "import pandas as pd \n",
    "exam1 = pd.read_csv(\"data/연습문제/Cars93.csv\")\n",
    "\n",
    "\n",
    "# exam1.info()\n",
    "wheelbase_avg = exam1[\"Wheelbase\"].mean()\n",
    "wheelbase_sd = exam1[\"Wheelbase\"].std()\n",
    "\n",
    "def custom_std(num):\n",
    "    low_1 = wheelbase_avg - num * wheelbase_sd\n",
    "    upp_1 = wheelbase_avg + num * wheelbase_sd\n",
    "    cond = (exam1[\"Wheelbase\"] > low_1) & (exam1[\"Wheelbase\"] < upp_1)\n",
    "    avg_1 = exam1[\"Wheelbase\"][cond].mean()\n",
    "    return exam1[\"Wheelbase\"].mean() - avg_1\n",
    "\n",
    "case1 = custom_std(1.5)\n",
    "case2 = custom_std(2)\n",
    "case3 = custom_std(2.5)\n",
    "\n",
    "result = round(case1 + case2 + case3, 4)\n",
    "print(result)"
   ]
  },
  {
   "cell_type": "code",
   "execution_count": null,
   "metadata": {},
   "outputs": [],
   "source": [
    "# 연습문제 2 \n",
    "\n",
    "import pandas as pd \n",
    "exam2 = pd.read_csv(\"data/연습문제/Cars93.csv\")\n",
    "\n",
    "rank = exam2[\"Length\"].rank()\n",
    "\n",
    "sub = exam2[\"Length\"][rank <= 30]\n",
    "\n",
    "sub_sd = sub.std()\n",
    "\n",
    "result = round(sub_sd, 3)\n",
    "\n",
    "print(result )\n"
   ]
  },
  {
   "cell_type": "code",
   "execution_count": null,
   "metadata": {},
   "outputs": [],
   "source": [
    "# 연습문제3\n",
    "\n",
    "import pandas as pd \n",
    "exam3 = pd.read_csv(\"data/연습문제/Cars93.csv\") \n",
    "\n",
    "max_price_sort = exam3[\"Max_Price\"].sort_values(ascending=False, ignore_index=True)\n",
    "min_price_sort = exam3[\"Min_Price\"].sort_values(ascending=True, ignore_index=True)\n",
    "\n",
    "diff = max_price_sort - min_price_sort\n",
    "result = round(diff.std(), 3) \n",
    "print(result)\n",
    "\n",
    "# print(max_price_sort)\n",
    "# print(min_price_sort)\n",
    "\n"
   ]
  },
  {
   "cell_type": "code",
   "execution_count": null,
   "metadata": {},
   "outputs": [],
   "source": [
    "# 연습문제 4 \n",
    "\n",
    "import pandas as pd \n",
    "exam4 = pd.read_csv(\"data/연습문제/Cars93.csv\") \n",
    "\n",
    "weight = exam4[\"Weight\"]\n",
    "weight_std = (weight - min(weight)) / (max(weight) - min(weight))\n",
    "\n",
    "var_under = weight_std[weight_std < 0.5].var()\n",
    "var_upper = weight_std[weight_std > 0.5].var()\n",
    "\n",
    "# print(var_under)\n",
    "# print(var_upper)\n",
    "\n",
    "diff = var_under - var_upper\n",
    "result = round(diff, 3)\n",
    "\n",
    "result \n"
   ]
  },
  {
   "cell_type": "code",
   "execution_count": null,
   "metadata": {},
   "outputs": [],
   "source": [
    "import pandas as pd \n",
    "exam4 = pd.read_csv(\"data/연습문제/Cars93.csv\") \n",
    "\n",
    "weight = exam4[[\"Weight\"]]\n",
    "\n",
    "from sklearn.preprocessing import MinMaxScaler \n",
    "\n",
    "mm_scale = MinMaxScaler()\n",
    "data = mm_scale.fit_transform(weight)\n",
    "weight_std = pd.DataFrame(data, columns=[\"Weight\"])\n",
    "\n",
    "var_under = weight_std[weight_std < 0.5].var()\n",
    "var_upper = weight_std[weight_std > 0.5].var()\n",
    "\n",
    "diff = abs(var_under - var_upper)\n",
    "\n",
    "result = round(diff, 3)\n",
    "print(result)\n"
   ]
  },
  {
   "cell_type": "code",
   "execution_count": null,
   "metadata": {},
   "outputs": [],
   "source": [
    "import pandas as pd \n",
    "exam5 = pd.read_csv(\"data/연습문제/Cars93.csv\") \n",
    "\n",
    "# exam5[\"Manufacturer\"].head()\n",
    "# exam5[\"Origin\"].head()\n",
    "\n",
    "# 1\n",
    "# exam5[[\"Manufacturer\", \"Origin\"]].shape\n",
    "\n",
    "uniq_raw = exam5[[\"Manufacturer\", \"Origin\"]].drop_duplicates()\n",
    "result1 = uniq_raw.shape[0]\n",
    "\n",
    "\n",
    "# 2\n",
    "exam5[\"sub_str\"] = exam5[\"Manufacturer\"].str[:2]\n",
    "uniq_new = exam5[[\"sub_str\", \"Origin\"]].drop_duplicates()\n",
    "result2 = uniq_new.shape[0]\n",
    "\n",
    "result = result1 - result2 \n",
    "print(result)\n",
    "\n",
    "\n"
   ]
  },
  {
   "cell_type": "code",
   "execution_count": null,
   "metadata": {},
   "outputs": [],
   "source": [
    "import pandas as pd \n",
    "exam6 = pd.read_csv(\"data/연습문제/Cars93.csv\") \n",
    "\n",
    "# 1: RPM 레코드 수 \n",
    "count_gp = exam6.groupby([\"Type\", \"Man_trans_avail\"])[\"RPM\"].count()\n",
    "\n",
    "# 2: RPM 합계 \n",
    "sum_gp = exam6.groupby([\"Type\", \"Man_trans_avail\"])[\"RPM\"].sum()\n",
    "\n",
    "# 3: RPM 중앙값\n",
    "median_gp = exam6.groupby([\"Type\", \"Man_trans_avail\"])[\"RPM\"].median()\n",
    "\n",
    "cal = median_gp - sum_gp / count_gp\n",
    "result = cal.sum()\n",
    "\n",
    "result = round(result, 0)\n",
    "print(result)\n",
    "\n",
    "\n"
   ]
  },
  {
   "cell_type": "code",
   "execution_count": null,
   "metadata": {},
   "outputs": [],
   "source": [
    "import pandas as pd \n",
    "exam7 = pd.read_csv(\"data/연습문제/Cars93.csv\") \n",
    "\n",
    "# 결측치 확인 RPM\n",
    "print(exam7[\"RPM\"].isnull().sum())\n",
    "\n",
    "avg = exam7[\"RPM\"].mean()\n",
    "exam7[\"RPM\"] = exam7[\"RPM\"].fillna(avg)\n",
    "\n",
    "print(exam7[\"RPM\"].isnull().sum())\n",
    "\n",
    "\n",
    "# RPM 컬럼의 표준화 \n",
    "RPM_std = (exam7[\"RPM\"] - exam7[\"RPM\"].mean()) / exam7[\"RPM\"].std()\n",
    "\n",
    "# Wheelbase 컬럼의 표준화 \n",
    "Wheelbase_std = (exam7[\"Wheelbase\"] - exam7[\"Wheelbase\"].mean()) / exam7[\"Wheelbase\"].std()\n",
    "\n",
    "# print(RPM_std)\n",
    "# print(Wheelbase_std)\n",
    "\n",
    "diff = Wheelbase_std * (-36) - RPM_std\n",
    "diff.std()\n",
    "\n",
    "result = round(diff.std(), 3)\n",
    "print(result)\n"
   ]
  },
  {
   "cell_type": "code",
   "execution_count": null,
   "metadata": {},
   "outputs": [],
   "source": [
    "import pandas as pd \n",
    "exam8 = pd.read_csv(\"../data/연습문제/Cars93.csv\") \n",
    "\n",
    "case1 = exam8.copy()\n",
    "case2 = exam8.copy()\n",
    "\n",
    "#1. \n",
    "avg = case1[\"Price\"].mean()\n",
    "case1[\"Price\"] = case1[\"Price\"].fillna(avg)\n",
    "\n",
    "avg_max_min = case1[[\"Max_Price\", \"Min_Price\"]].mean(axis=1)\n",
    "sub_case1 = case1[case1[\"Price\"] < avg_max_min]\n",
    "sum_case1 = sub_case1.groupby(\"Origin\")[\"Price\"].sum()\n",
    "\n",
    "# print(sum_case1)\n",
    "\n",
    "# 2. \n",
    "med = case2[\"Price\"].median()\n",
    "case2[\"Price\"] = case2[\"Price\"].fillna(med)\n",
    "\n",
    "q3 = exam8[\"Min_Price\"].quantile(.75)\n",
    "\n",
    "sub_case2 = case2[case2[\"Price\"] < q3]\n",
    "sum_case2 = sub_case2.groupby(\"Origin\")[\"Price\"].sum()\n",
    "\n",
    "# print(sum_case2)\n",
    "\n",
    "# 합\n",
    "result = max(sum_case1 + sum_case2) \n",
    "print(int(result))\n",
    "\n",
    "\n",
    "import numpy as np \n",
    "print(np.floor(result))\n",
    "\n",
    "\n",
    "import math \n",
    "print(math.floor(result))"
   ]
  },
  {
   "cell_type": "code",
   "execution_count": 28,
   "metadata": {},
   "outputs": [
    {
     "data": {
      "text/plain": [
       "32"
      ]
     },
     "execution_count": 28,
     "metadata": {},
     "output_type": "execute_result"
    }
   ],
   "source": [
    "import pandas as pd \n",
    "exam9 = pd.read_csv(\"data/연습문제/Cars93.csv\") \n",
    "\n",
    "exam9[\"Price\"].isnull().sum()\n",
    "a = exam9[\"Max_Price\"][exam9[\"Price\"].isnull()]\n",
    "b = exam9[\"Min_Price\"][exam9[\"Price\"].isnull()]\n",
    "avg = (a + b) / 2 \n",
    "\n",
    "exam9[\"Price\"] = exam9[\"Price\"].fillna(avg)\n",
    "\n",
    "cond1 = exam9[\"Price\"] < 14.7\n",
    "cond2 = (exam9[\"Price\"] > 25.3) & (exam9[\"Type\"] == \"Larage\")\n",
    "condition = cond1 | cond2 \n",
    "\n",
    "exam9[condition].shape[0]\n"
   ]
  },
  {
   "cell_type": "code",
   "execution_count": 6,
   "metadata": {},
   "outputs": [
    {
     "data": {
      "text/plain": [
       "3"
      ]
     },
     "execution_count": 6,
     "metadata": {},
     "output_type": "execute_result"
    }
   ],
   "source": [
    "import pandas as pd \n",
    "exam10 = pd.read_csv(\"data/연습문제/Cars93.csv\") \n",
    "\n",
    "# exam10[\"Make\"] = exam10[\"Make\"].str.strip()\n",
    "\n",
    "cond1 = exam10[\"Make\"].str.contains(\"Chevrolet|Pontiac|Hyundai\")\n",
    "cond2 = exam10[\"AirBags\"] == \"Driver only\"\n",
    "\n",
    "# print(cond1)\n",
    "# print(cond2)\n",
    "\n",
    "sum(cond1 & cond2) \n",
    "\n",
    "\n"
   ]
  },
  {
   "cell_type": "code",
   "execution_count": 14,
   "metadata": {},
   "outputs": [
    {
     "name": "stdout",
     "output_type": "stream",
     "text": [
      "62\n"
     ]
    },
    {
     "data": {
      "text/plain": [
       "62"
      ]
     },
     "execution_count": 14,
     "metadata": {},
     "output_type": "execute_result"
    }
   ],
   "source": [
    "import pandas as pd \n",
    "exam11 = pd.read_csv(\"data/연습문제/Rabbit.csv\") \n",
    "\n",
    "exam11[\"Dose\"].head()\n",
    "\n",
    "q3 = exam11[\"Dose\"].quantile(0.75)\n",
    "q2 = exam11[\"Dose\"].quantile()\n",
    "\n",
    "# print(q3)\n",
    "# print(q2)\n",
    "\n",
    "result  = q3 - q2\n",
    "print(int(result))\n",
    "\n",
    "import math \n",
    "\n",
    "math.floor(result)"
   ]
  },
  {
   "cell_type": "code",
   "execution_count": 29,
   "metadata": {},
   "outputs": [
    {
     "name": "stdout",
     "output_type": "stream",
     "text": [
      "3.9454\n"
     ]
    },
    {
     "data": {
      "text/plain": [
       "np.float64(3.95)"
      ]
     },
     "execution_count": 29,
     "metadata": {},
     "output_type": "execute_result"
    }
   ],
   "source": [
    "import pandas as pd \n",
    "exam12 = pd.read_csv(\"data/연습문제/Boston.csv\") \n",
    "\n",
    "exam12[\"medv\"]\n",
    "\n",
    "# print(exam12[\"medv\"].min())\n",
    "# print(exam12[\"medv\"].max())\n",
    "\n",
    "medv_cut = pd.cut(exam12[\"medv\"], bins=[0, 10, 20, 30, 40, 50])\n",
    "imsi = medv_cut.value_counts()\n",
    "\n",
    "mode = imsi.idxmax()\n",
    "\n",
    "# print(medv_cut)\n",
    "# print(mode)\n",
    "\n",
    "sub = exam12[\"dis\"][medv_cut == mode]\n",
    "\n",
    "median = sub.median()\n",
    "print(median)\n",
    "\n",
    "round(median, 2)"
   ]
  },
  {
   "cell_type": "code",
   "execution_count": 45,
   "metadata": {},
   "outputs": [
    {
     "name": "stdout",
     "output_type": "stream",
     "text": [
      "-1.0027\n"
     ]
    }
   ],
   "source": [
    "import pandas as pd \n",
    "exam13 = pd.read_csv(\"data/연습문제/Melanoma.csv\") \n",
    "\n",
    "exam13.shape\n",
    "\n",
    "df1 = exam13.iloc[:123]\n",
    "df2 = exam13.iloc[123:]\n",
    "\n",
    "avg = df1[\"thickness\"].mean()\n",
    "std = df1[\"thickness\"].std()\n",
    "\n",
    "std1 = (df1[\"thickness\"] - avg) / std\n",
    "std2 = (df2[\"thickness\"] - avg) / std\n",
    "\n",
    "std1.describe(), std2.describe()\n",
    "\n",
    "cond1 = (std1 >= -1) & (std1 <= 1)\n",
    "cond2 = (std2 >= -1) & (std2 <= 1)\n",
    "\n",
    "sub1 = std1[cond1]\n",
    "sub2 = std2[cond2]\n",
    "\n",
    "\n",
    "med1 = sub1.median()\n",
    "med2 = sub2.median()\n",
    "\n",
    "result = round(med1 + med2, 4)\n",
    "print(result)\n",
    " \n"
   ]
  },
  {
   "cell_type": "code",
   "execution_count": null,
   "metadata": {},
   "outputs": [],
   "source": []
  }
 ],
 "metadata": {
  "kernelspec": {
   "display_name": "Python 3",
   "language": "python",
   "name": "python3"
  },
  "language_info": {
   "codemirror_mode": {
    "name": "ipython",
    "version": 3
   },
   "file_extension": ".py",
   "mimetype": "text/x-python",
   "name": "python",
   "nbconvert_exporter": "python",
   "pygments_lexer": "ipython3",
   "version": "3.12.4"
  }
 },
 "nbformat": 4,
 "nbformat_minor": 2
}
